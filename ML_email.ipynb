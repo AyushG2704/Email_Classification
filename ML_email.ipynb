{
  "nbformat": 4,
  "nbformat_minor": 0,
  "metadata": {
    "colab": {
      "name": "ML-email.ipynb",
      "provenance": [],
      "collapsed_sections": []
    },
    "kernelspec": {
      "name": "python3",
      "display_name": "Python 3"
    },
    "language_info": {
      "name": "python"
    }
  },
  "cells": [
    {
      "cell_type": "code",
      "metadata": {
        "id": "i0cV3Za4snM_",
        "colab": {
          "base_uri": "https://localhost:8080/"
        },
        "outputId": "677dce06-bead-41db-9a1c-908fbd1f9549"
      },
      "source": [
        "from google.colab import drive\n",
        "drive.mount('/content/gdrive')"
      ],
      "execution_count": null,
      "outputs": [
        {
          "output_type": "stream",
          "name": "stdout",
          "text": [
            "Mounted at /content/gdrive\n"
          ]
        }
      ]
    },
    {
      "cell_type": "code",
      "metadata": {
        "colab": {
          "base_uri": "https://localhost:8080/",
          "height": 35
        },
        "id": "_uyyVUWKkyk8",
        "outputId": "17c5e1a4-d28d-44ab-da3b-c2736b29827b"
      },
      "source": [
        "%pwd"
      ],
      "execution_count": null,
      "outputs": [
        {
          "output_type": "execute_result",
          "data": {
            "application/vnd.google.colaboratory.intrinsic+json": {
              "type": "string"
            },
            "text/plain": [
              "'/content'"
            ]
          },
          "metadata": {},
          "execution_count": 3
        }
      ]
    },
    {
      "cell_type": "code",
      "metadata": {
        "colab": {
          "base_uri": "https://localhost:8080/"
        },
        "id": "RqTrp83UlXlm",
        "outputId": "1cdea5ba-7826-4892-f1d7-e79e9a600010"
      },
      "source": [
        "%cd /content/gdrive/MyDrive/Email-Classifier/"
      ],
      "execution_count": null,
      "outputs": [
        {
          "output_type": "stream",
          "name": "stdout",
          "text": [
            "/content/gdrive/MyDrive/Email-Classifier\n"
          ]
        }
      ]
    },
    {
      "cell_type": "code",
      "metadata": {
        "id": "6yQoi2YTldOP",
        "colab": {
          "base_uri": "https://localhost:8080/"
        },
        "outputId": "22295be0-23e0-4f8f-d1e0-42a0e9b310c4"
      },
      "source": [
        "!ls"
      ],
      "execution_count": null,
      "outputs": [
        {
          "output_type": "stream",
          "name": "stdout",
          "text": [
            "arsh_emails   gmail_extractor_new.py  harsh_emails\n",
            "ayush_emails  gmail_extractor.py\n"
          ]
        }
      ]
    },
    {
      "cell_type": "code",
      "metadata": {
        "colab": {
          "base_uri": "https://localhost:8080/"
        },
        "id": "387gwXlj-svy",
        "outputId": "406e4a5c-f9b4-4149-a838-713232a8c38f"
      },
      "source": [
        "!python gmail_extractor.py"
      ],
      "execution_count": null,
      "outputs": [
        {
          "output_type": "stream",
          "name": "stdout",
          "text": [
            "\n",
            "Welcome to Gmail extractor,\n",
            "developed by A. Augustin.\n",
            "\n",
            "Please enter your Gmail login details below.\n",
            "Email: f20190444@pilani.bits-pilani.ac.in\n",
            "Password: aviqzhlbhyhhzzzp\n",
            "\n",
            "Logon SUCCESSFUL\n",
            "\n",
            "Please choose a destination folder in the form of /Users/username/dest/ (do not forget trailing slash!): ./arsh_emails/Spam/\n",
            "\n",
            "Please type the name of the mailbox you want to extract, e.g. Inbox: Spam_1\n",
            "\n",
            "We have found 168 emails in the mailbox Spam_1.\n",
            "Do you wish to continue extracting all the emails into ./arsh_emails/Spam/? (y/N) y\n",
            "Traceback (most recent call last):\n",
            "  File \"gmail_extractor.py\", line 115, in <module>\n",
            "    run = GMAIL_EXTRACTOR()\n",
            "  File \"gmail_extractor.py\", line 112, in __init__\n",
            "    self.parseEmails()\n",
            "  File \"gmail_extractor.py\", line 94, in parseEmails\n",
            "    jsonOutput['body'] = msg.get_payload(decode=True).decode(\"utf-8\") # Non-multipart email, perhaps no attachments or just text.\n",
            "UnicodeDecodeError: 'utf-8' codec can't decode byte 0xae in position 6016: invalid start byte\n"
          ]
        }
      ]
    },
    {
      "cell_type": "code",
      "metadata": {
        "colab": {
          "base_uri": "https://localhost:8080/"
        },
        "id": "I91woavLDaen",
        "outputId": "2a7d9705-cdf6-47c2-fdaa-dbe1710be0f4"
      },
      "source": [
        "!pip install beautifulsoup4"
      ],
      "execution_count": null,
      "outputs": [
        {
          "output_type": "stream",
          "name": "stdout",
          "text": [
            "Requirement already satisfied: beautifulsoup4 in /usr/local/lib/python3.7/dist-packages (4.6.3)\n"
          ]
        }
      ]
    },
    {
      "cell_type": "code",
      "metadata": {
        "id": "PaPFcDTn-7Cw"
      },
      "source": [
        "# JSON TO CSV\n",
        "import json\n",
        "import csv\n",
        "import os, re\n",
        "from os import getcwd"
      ],
      "execution_count": null,
      "outputs": []
    },
    {
      "cell_type": "code",
      "metadata": {
        "id": "Mm4iMy0Y3iRx"
      },
      "source": [
        "path = getcwd()"
      ],
      "execution_count": null,
      "outputs": []
    },
    {
      "cell_type": "code",
      "metadata": {
        "id": "PIvYJVrdruow"
      },
      "source": [
        "folders = os.listdir(getcwd())"
      ],
      "execution_count": null,
      "outputs": []
    },
    {
      "cell_type": "code",
      "metadata": {
        "colab": {
          "base_uri": "https://localhost:8080/"
        },
        "id": "PglBeXaDsB2g",
        "outputId": "18c97c3c-f36d-40e9-e178-d0adf47faa2c"
      },
      "source": [
        "folders"
      ],
      "execution_count": null,
      "outputs": [
        {
          "output_type": "execute_result",
          "data": {
            "text/plain": [
              "['ayush_emails',\n",
              " 'arsh_emails',\n",
              " '.ipynb_checkpoints',\n",
              " 'harsh_emails',\n",
              " 'gmail_extractor.py']"
            ]
          },
          "metadata": {},
          "execution_count": 8
        }
      ]
    },
    {
      "cell_type": "code",
      "metadata": {
        "colab": {
          "base_uri": "https://localhost:8080/",
          "height": 35
        },
        "id": "EpOJE0XjSnao",
        "outputId": "de4e063a-250c-445d-f3e6-eb307fc75bbb"
      },
      "source": [
        "getcwd()"
      ],
      "execution_count": null,
      "outputs": [
        {
          "output_type": "execute_result",
          "data": {
            "application/vnd.google.colaboratory.intrinsic+json": {
              "type": "string"
            },
            "text/plain": [
              "'/content/gdrive/MyDrive/Email-Classifier'"
            ]
          },
          "metadata": {},
          "execution_count": 9
        }
      ]
    },
    {
      "cell_type": "code",
      "metadata": {
        "colab": {
          "base_uri": "https://localhost:8080/"
        },
        "id": "wYdg6DV6pf7a",
        "outputId": "391650a9-164f-40aa-e4bf-3e15b69fc342"
      },
      "source": [
        "os.chdir('/content/gdrive/My Drive/Email-Classifier/arsh_emails/')\n",
        "path = getcwd()\n",
        "\n",
        "folders = os.listdir(path)\n",
        "\n",
        "for folder in folders:\n",
        "  \n",
        "  try:\n",
        "    folder_dir = os.listdir(folder)\n",
        "  except:\n",
        "    continue\n",
        "\n",
        "  count = 0\n",
        "  file_name = 'email_data_' + str(folder)  + '.csv'\n",
        "  \n",
        "  print(file_name)\n",
        "\n",
        "  email_data_file = open(file_name, 'w')\n",
        "  csv_writer = csv.writer(email_data_file)\n",
        "  \n",
        "  for files in folder_dir:\n",
        "    \n",
        "    os.chdir(path + '/' + folder)\n",
        "\n",
        "    print(files)\n",
        "\n",
        "    try:\n",
        "      with open(files) as json_file:\n",
        "        data = json.load(json_file)\n",
        "    except:\n",
        "      continue\n",
        "    \n",
        "    # file_name = 'email_data_' + re.search('([0-9]+)', str(files)).group()  + '.csv'\n",
        "\n",
        "    if count == 0:\n",
        "\n",
        "      header = data.keys()\n",
        "      csv_writer.writerow(header)\n",
        "      count +=1\n",
        "\n",
        "    csv_writer.writerow(data.values())\n",
        "\n",
        "    os.chdir('/content/gdrive/My Drive/Email-Classifier/arsh_emails/')\n",
        "\n",
        "  email_data_file.close()"
      ],
      "execution_count": null,
      "outputs": [
        {
          "output_type": "stream",
          "name": "stdout",
          "text": [
            "email_data_Spam.csv\n",
            "1.json\n",
            "2.json\n",
            "3.json\n",
            "4.json\n",
            "5.json\n",
            "6.json\n",
            "7.json\n",
            "8.json\n",
            "9.json\n",
            "10.json\n",
            "11.json\n",
            "12.json\n",
            "13.json\n",
            "14.json\n",
            "15.json\n",
            "16.json\n",
            "17.json\n",
            "18.json\n",
            "19.json\n",
            "20.json\n",
            "21.json\n",
            "22.json\n",
            "23.json\n",
            "24.json\n",
            "25.json\n",
            "26.json\n",
            "27.json\n",
            "28.json\n",
            "29.json\n",
            "30.json\n",
            "31.json\n",
            "32.json\n",
            "33.json\n",
            "34.json\n",
            "35.json\n",
            "36.json\n",
            "37.json\n",
            "38.json\n",
            "39.json\n",
            "40.json\n",
            "41.json\n",
            "42.json\n",
            "43.json\n",
            "44.json\n",
            "45.json\n",
            "46.json\n",
            "47.json\n",
            "48.json\n",
            "49.json\n",
            "50.json\n",
            "51.json\n",
            "52.json\n",
            "53.json\n",
            "54.json\n",
            "55.json\n",
            "56.json\n",
            "57.json\n",
            "58.json\n",
            "59.json\n",
            "60.json\n",
            "61.json\n",
            "62.json\n",
            "63.json\n",
            "64.json\n",
            "65.json\n",
            "66.json\n",
            "67.json\n",
            "68.json\n",
            "69.json\n",
            "70.json\n",
            "71.json\n",
            "72.json\n",
            "73.json\n",
            "74.json\n",
            "75.json\n",
            "76.json\n",
            "77.json\n",
            "78.json\n",
            "79.json\n",
            "80.json\n",
            "81.json\n",
            "82.json\n",
            "83.json\n",
            "84.json\n",
            "85.json\n",
            "86.json\n",
            "87.json\n",
            "88.json\n",
            "89.json\n",
            "90.json\n",
            "91.json\n",
            "92.json\n",
            "93.json\n",
            "94.json\n",
            "95.json\n",
            "96.json\n",
            "97.json\n",
            "98.json\n",
            "99.json\n",
            "100.json\n",
            "101.json\n",
            "102.json\n",
            "103.json\n",
            "104.json\n",
            "105.json\n",
            "106.json\n",
            "107.json\n",
            "108.json\n",
            "109.json\n",
            "110.json\n",
            "111.json\n",
            "112.json\n",
            "113.json\n",
            "114.json\n",
            "115.json\n",
            "116.json\n",
            "117.json\n",
            "118.json\n",
            "119.json\n",
            "120.json\n",
            "121.json\n",
            "122.json\n",
            "123.json\n",
            "124.json\n",
            "125.json\n",
            "126.json\n",
            "127.json\n",
            "128.json\n",
            "129.json\n",
            "130.json\n",
            "131.json\n",
            "132.json\n",
            "133.json\n",
            "134.json\n",
            "135.json\n",
            "136.json\n",
            "137.json\n",
            "138.json\n",
            "139.json\n",
            "140.json\n",
            "141.json\n",
            "142.json\n",
            "143.json\n",
            "144.json\n",
            "145.json\n",
            "146.json\n",
            "147.json\n",
            "148.json\n",
            "149.json\n",
            "150.json\n",
            "151.json\n",
            "152.json\n",
            "153.json\n",
            "154.json\n",
            "email_data_Recreation-Clubs.csv\n",
            "1.json\n",
            "2.json\n",
            "3.json\n",
            "4.json\n",
            "5.json\n",
            "6.json\n",
            "7.json\n",
            "8.json\n",
            "9.json\n",
            "10.json\n",
            "11.json\n",
            "12.json\n",
            "13.json\n",
            "14.json\n",
            "15.json\n",
            "16.json\n",
            "17.json\n",
            "18.json\n",
            "19.json\n",
            "20.json\n",
            "21.json\n",
            "22.json\n",
            "23.json\n",
            "24.json\n",
            "25.json\n",
            "26.json\n",
            "27.json\n",
            "28.json\n",
            "29.json\n",
            "30.json\n",
            "31.json\n",
            "32.json\n",
            "33.json\n",
            "34.json\n",
            "35.json\n",
            "36.json\n",
            "37.json\n",
            "38.json\n",
            "39.json\n",
            "40.json\n",
            "41.json\n",
            "42.json\n",
            "43.json\n",
            "44.json\n",
            "45.json\n",
            "46.json\n",
            "47.json\n",
            "48.json\n",
            "49.json\n",
            "50.json\n",
            "51.json\n",
            "54.json\n",
            "55.json\n",
            "56.json\n",
            "57.json\n",
            "58.json\n",
            "59.json\n",
            "60.json\n",
            "61.json\n",
            "62.json\n",
            "63.json\n",
            "64.json\n",
            "65.json\n",
            "66.json\n",
            "67.json\n",
            "68.json\n",
            "69.json\n",
            "70.json\n",
            "71.json\n",
            "72.json\n",
            "73.json\n",
            "74.json\n",
            "76.json\n",
            "77.json\n",
            "78.json\n",
            "79.json\n",
            "80.json\n",
            "81.json\n",
            "82.json\n",
            "83.json\n",
            "84.json\n",
            "85.json\n",
            "86.json\n",
            "87.json\n",
            "88.json\n",
            "89.json\n",
            "90.json\n",
            "91.json\n",
            "92.json\n",
            "93.json\n",
            "94.json\n",
            "95.json\n",
            "96.json\n",
            "97.json\n",
            "98.json\n",
            "99.json\n",
            "100.json\n",
            "101.json\n",
            "102.json\n",
            "103.json\n",
            "104.json\n",
            "105.json\n",
            "106.json\n",
            "107.json\n",
            "108.json\n",
            "109.json\n",
            "110.json\n",
            "111.json\n",
            "112.json\n",
            "113.json\n",
            "114.json\n",
            "115.json\n",
            "116.json\n",
            "117.json\n",
            "118.json\n",
            "119.json\n",
            "120.json\n",
            "121.json\n",
            "122.json\n",
            "123.json\n",
            "124.json\n",
            "125.json\n",
            "126.json\n",
            "127.json\n",
            "128.json\n",
            "129.json\n",
            "130.json\n",
            "131.json\n",
            "132.json\n",
            "133.json\n",
            "134.json\n",
            "135.json\n",
            "136.json\n",
            "137.json\n",
            "138.json\n",
            "139.json\n",
            "140.json\n",
            "141.json\n",
            "142.json\n",
            "143.json\n",
            "144.json\n",
            "145.json\n",
            "146.json\n",
            "147.json\n",
            "148.json\n",
            "149.json\n",
            "150.json\n",
            "151.json\n",
            "152.json\n",
            "153.json\n",
            "154.json\n",
            "155.json\n",
            "156.json\n",
            "157.json\n",
            "158.json\n",
            "159.json\n",
            "160.json\n",
            "161.json\n",
            "162.json\n",
            "163.json\n",
            "164.json\n",
            "165.json\n",
            "166.json\n",
            "167.json\n",
            "168.json\n",
            "169.json\n",
            "170.json\n",
            "171.json\n",
            "email_data_Admin-Notices.csv\n",
            "1.json\n",
            "2.json\n",
            "3.json\n",
            "4.json\n",
            "5.json\n",
            "6.json\n",
            "7.json\n",
            "8.json\n",
            "9.json\n",
            "10.json\n",
            "11.json\n",
            "12.json\n",
            "13.json\n",
            "14.json\n",
            "15.json\n",
            "16.json\n",
            "17.json\n",
            "18.json\n",
            "19.json\n",
            "20.json\n",
            "21.json\n",
            "22.json\n",
            "23.json\n",
            "24.json\n",
            "25.json\n",
            "26.json\n",
            "27.json\n",
            "28.json\n",
            "29.json\n",
            "30.json\n",
            "31.json\n",
            "32.json\n",
            "33.json\n",
            "34.json\n",
            "35.json\n",
            "36.json\n",
            "37.json\n",
            "38.json\n",
            "39.json\n",
            "40.json\n",
            "41.json\n",
            "42.json\n",
            "43.json\n",
            "44.json\n",
            "45.json\n",
            "46.json\n",
            "47.json\n",
            "48.json\n",
            "49.json\n",
            "50.json\n",
            "51.json\n",
            "52.json\n",
            "53.json\n",
            "54.json\n",
            "55.json\n",
            "56.json\n",
            "57.json\n",
            "58.json\n",
            "59.json\n",
            "60.json\n",
            "61.json\n",
            "63.json\n",
            "64.json\n",
            "65.json\n",
            "66.json\n",
            "67.json\n",
            "68.json\n",
            "69.json\n",
            "70.json\n",
            "71.json\n",
            "72.json\n",
            "73.json\n",
            "74.json\n",
            "75.json\n",
            "76.json\n",
            "77.json\n",
            "78.json\n",
            "79.json\n",
            "80.json\n",
            "81.json\n",
            "82.json\n",
            "83.json\n",
            "84.json\n",
            "85.json\n",
            "86.json\n",
            "87.json\n",
            "88.json\n",
            "89.json\n",
            "90.json\n",
            "91.json\n",
            "92.json\n",
            "93.json\n",
            "94.json\n",
            "95.json\n",
            "96.json\n",
            "97.json\n",
            "98.json\n",
            "99.json\n",
            "100.json\n",
            "101.json\n",
            "102.json\n",
            "103.json\n",
            "104.json\n",
            "105.json\n",
            "106.json\n",
            "107.json\n",
            "108.json\n",
            "109.json\n",
            "110.json\n",
            "111.json\n",
            "112.json\n",
            "113.json\n",
            "114.json\n",
            "115.json\n",
            "116.json\n",
            "117.json\n",
            "118.json\n",
            "119.json\n",
            "120.json\n",
            "121.json\n",
            "122.json\n",
            "123.json\n",
            "124.json\n",
            "125.json\n",
            "126.json\n",
            "127.json\n",
            "128.json\n",
            "129.json\n",
            "130.json\n",
            "131.json\n",
            "132.json\n",
            "133.json\n",
            "134.json\n",
            "135.json\n",
            "136.json\n",
            "137.json\n",
            "138.json\n",
            "139.json\n",
            "140.json\n",
            "141.json\n",
            "142.json\n",
            "143.json\n",
            "144.json\n",
            "145.json\n",
            "146.json\n",
            "147.json\n",
            "148.json\n",
            "149.json\n",
            "150.json\n",
            "151.json\n",
            "152.json\n",
            "153.json\n",
            "154.json\n",
            "155.json\n",
            "156.json\n",
            "157.json\n",
            "158.json\n",
            "159.json\n",
            "160.json\n",
            "161.json\n",
            "162.json\n",
            "163.json\n",
            "164.json\n",
            "165.json\n",
            "166.json\n",
            "167.json\n",
            "168.json\n",
            "169.json\n",
            "170.json\n",
            "171.json\n",
            "email_data_Internship-Placements.csv\n",
            "1.json\n",
            "2.json\n",
            "3.json\n",
            "4.json\n",
            "5.json\n",
            "6.json\n",
            "7.json\n",
            "8.json\n",
            "9.json\n",
            "10.json\n",
            "11.json\n",
            "12.json\n",
            "13.json\n",
            "14.json\n",
            "18.json\n",
            "19.json\n",
            "20.json\n",
            "21.json\n",
            "22.json\n",
            "23.json\n",
            "24.json\n",
            "25.json\n",
            "26.json\n",
            "27.json\n",
            "31.json\n",
            "32.json\n",
            "33.json\n",
            "34.json\n",
            "35.json\n",
            "36.json\n",
            "38.json\n",
            "39.json\n",
            "40.json\n",
            "41.json\n",
            "42.json\n",
            "43.json\n",
            "44.json\n",
            "45.json\n",
            "46.json\n",
            "47.json\n",
            "48.json\n",
            "49.json\n",
            "50.json\n",
            "51.json\n",
            "52.json\n",
            "53.json\n",
            "54.json\n",
            "55.json\n",
            "57.json\n",
            "58.json\n",
            "59.json\n",
            "60.json\n",
            "61.json\n",
            "62.json\n",
            "63.json\n",
            "64.json\n",
            "65.json\n",
            "66.json\n",
            "67.json\n",
            "68.json\n",
            "69.json\n",
            "70.json\n",
            "71.json\n",
            "72.json\n",
            "73.json\n",
            "74.json\n",
            "75.json\n",
            "76.json\n",
            "77.json\n",
            "78.json\n",
            "79.json\n",
            "80.json\n",
            "81.json\n",
            "82.json\n",
            "83.json\n",
            "84.json\n",
            "85.json\n",
            "86.json\n",
            "87.json\n",
            "88.json\n",
            "89.json\n",
            "90.json\n",
            "91.json\n",
            "92.json\n",
            "93.json\n",
            "94.json\n",
            "95.json\n",
            "96.json\n",
            "97.json\n",
            "98.json\n",
            "99.json\n",
            "100.json\n",
            "101.json\n",
            "102.json\n",
            "103.json\n",
            "104.json\n",
            "105.json\n",
            "106.json\n",
            "107.json\n",
            "108.json\n",
            "109.json\n",
            "110.json\n",
            "111.json\n",
            "112.json\n",
            "113.json\n",
            "114.json\n",
            "115.json\n",
            "116.json\n",
            "117.json\n",
            "118.json\n",
            "119.json\n",
            "120.json\n",
            "121.json\n",
            "122.json\n",
            "123.json\n",
            "124.json\n",
            "125.json\n",
            "126.json\n",
            "127.json\n",
            "128.json\n",
            "129.json\n",
            "130.json\n",
            "131.json\n",
            "132.json\n",
            "133.json\n",
            "134.json\n",
            "135.json\n",
            "136.json\n",
            "137.json\n",
            "138.json\n",
            "139.json\n",
            "140.json\n",
            "141.json\n",
            "142.json\n",
            "143.json\n",
            "144.json\n",
            "145.json\n",
            "146.json\n",
            "147.json\n",
            "148.json\n",
            "149.json\n",
            "150.json\n",
            "151.json\n",
            "152.json\n",
            "153.json\n",
            "154.json\n",
            "155.json\n",
            "156.json\n",
            "157.json\n",
            "158.json\n",
            "159.json\n",
            "160.json\n",
            "161.json\n",
            "162.json\n",
            "163.json\n",
            "164.json\n",
            "165.json\n",
            "166.json\n",
            "167.json\n",
            "168.json\n",
            "169.json\n",
            "170.json\n",
            "171.json\n",
            "172.json\n",
            "173.json\n",
            "174.json\n",
            "175.json\n",
            "176.json\n",
            "177.json\n",
            "178.json\n",
            "179.json\n",
            "180.json\n",
            "email_data_Academic.csv\n",
            "1.json\n",
            "2.json\n",
            "3.json\n",
            "4.json\n",
            "5.json\n",
            "6.json\n",
            "7.json\n",
            "8.json\n",
            "9.json\n",
            "10.json\n",
            "11.json\n",
            "12.json\n",
            "13.json\n",
            "14.json\n",
            "15.json\n",
            "16.json\n",
            "17.json\n",
            "18.json\n",
            "19.json\n",
            "20.json\n",
            "21.json\n",
            "22.json\n",
            "23.json\n",
            "24.json\n",
            "25.json\n",
            "26.json\n",
            "27.json\n",
            "28.json\n",
            "35.json\n",
            "36.json\n",
            "37.json\n",
            "38.json\n",
            "39.json\n",
            "40.json\n",
            "41.json\n",
            "42.json\n",
            "43.json\n",
            "44.json\n",
            "45.json\n",
            "46.json\n",
            "47.json\n",
            "48.json\n",
            "49.json\n",
            "50.json\n",
            "51.json\n",
            "52.json\n",
            "53.json\n",
            "54.json\n",
            "83.json\n",
            "84.json\n",
            "85.json\n",
            "88.json\n",
            "89.json\n",
            "90.json\n",
            "91.json\n",
            "92.json\n",
            "93.json\n",
            "94.json\n",
            "95.json\n",
            "96.json\n",
            "97.json\n",
            "98.json\n",
            "99.json\n",
            "100.json\n",
            "101.json\n",
            "102.json\n",
            "103.json\n",
            "104.json\n",
            "105.json\n",
            "106.json\n",
            "107.json\n",
            "108.json\n",
            "109.json\n",
            "110.json\n",
            "111.json\n",
            "112.json\n",
            "113.json\n",
            "114.json\n",
            "115.json\n",
            "116.json\n",
            "117.json\n",
            "118.json\n",
            "119.json\n",
            "120.json\n",
            "121.json\n",
            "122.json\n",
            "123.json\n",
            "124.json\n",
            "125.json\n",
            "126.json\n",
            "127.json\n",
            "128.json\n",
            "129.json\n",
            "130.json\n",
            "131.json\n",
            "132.json\n",
            "133.json\n",
            "134.json\n",
            "135.json\n",
            "136.json\n",
            "137.json\n",
            "138.json\n",
            "139.json\n",
            "140.json\n",
            "141.json\n",
            "142.json\n",
            "143.json\n",
            "144.json\n",
            "145.json\n",
            "146.json\n",
            "147.json\n",
            "148.json\n",
            "149.json\n",
            "150.json\n",
            "151.json\n",
            "152.json\n",
            "153.json\n",
            "154.json\n",
            "155.json\n",
            "156.json\n",
            "157.json\n",
            "158.json\n",
            "159.json\n",
            "161.json\n",
            "162.json\n",
            "163.json\n",
            "164.json\n",
            "165.json\n",
            "166.json\n",
            "167.json\n",
            "168.json\n",
            "169.json\n",
            "170.json\n",
            "171.json\n",
            "172.json\n",
            "173.json\n",
            "174.json\n",
            "175.json\n",
            "176.json\n",
            "177.json\n",
            "178.json\n",
            "179.json\n",
            "180.json\n",
            "181.json\n",
            "182.json\n",
            "183.json\n",
            "184.json\n",
            "185.json\n",
            "186.json\n",
            "187.json\n",
            "188.json\n",
            "189.json\n",
            "190.json\n",
            "191.json\n",
            "192.json\n",
            "193.json\n",
            "194.json\n",
            "195.json\n",
            "196.json\n",
            "197.json\n",
            "198.json\n",
            "199.json\n",
            "200.json\n",
            "201.json\n",
            "202.json\n",
            "203.json\n",
            "204.json\n",
            "205.json\n",
            "206.json\n",
            "207.json\n",
            "208.json\n",
            "209.json\n",
            "210.json\n",
            "email_data_Formal-Events.csv\n",
            "1.json\n",
            "2.json\n",
            "3.json\n",
            "4.json\n",
            "5.json\n",
            "6.json\n",
            "7.json\n",
            "8.json\n",
            "9.json\n",
            "10.json\n",
            "11.json\n",
            "12.json\n",
            "13.json\n",
            "14.json\n",
            "15.json\n",
            "16.json\n",
            "17.json\n",
            "18.json\n",
            "19.json\n",
            "20.json\n",
            "21.json\n",
            "22.json\n",
            "23.json\n",
            "24.json\n",
            "25.json\n",
            "26.json\n",
            "27.json\n",
            "28.json\n",
            "29.json\n",
            "30.json\n",
            "31.json\n",
            "32.json\n",
            "33.json\n",
            "34.json\n",
            "35.json\n",
            "36.json\n",
            "37.json\n",
            "38.json\n",
            "39.json\n",
            "40.json\n",
            "41.json\n",
            "42.json\n",
            "43.json\n",
            "44.json\n",
            "45.json\n",
            "46.json\n",
            "47.json\n",
            "48.json\n",
            "49.json\n",
            "50.json\n",
            "51.json\n",
            "52.json\n",
            "53.json\n",
            "54.json\n",
            "55.json\n",
            "56.json\n",
            "57.json\n",
            "58.json\n",
            "59.json\n",
            "60.json\n",
            "61.json\n",
            "62.json\n",
            "63.json\n",
            "64.json\n",
            "65.json\n",
            "66.json\n",
            "67.json\n",
            "68.json\n",
            "69.json\n",
            "70.json\n",
            "71.json\n",
            "72.json\n",
            "73.json\n",
            "74.json\n",
            "75.json\n",
            "76.json\n",
            "77.json\n",
            "78.json\n",
            "79.json\n",
            "80.json\n",
            "81.json\n",
            "82.json\n",
            "83.json\n",
            "84.json\n",
            "85.json\n",
            "86.json\n",
            "87.json\n",
            "88.json\n",
            "89.json\n",
            "90.json\n",
            "91.json\n",
            "92.json\n",
            "93.json\n",
            "94.json\n",
            "95.json\n",
            "96.json\n",
            "97.json\n",
            "98.json\n",
            "99.json\n",
            "100.json\n",
            "101.json\n",
            "102.json\n",
            "103.json\n",
            "104.json\n",
            "105.json\n",
            "106.json\n",
            "107.json\n",
            "108.json\n",
            "109.json\n",
            "110.json\n",
            "111.json\n",
            "112.json\n",
            "113.json\n",
            "114.json\n",
            "115.json\n",
            "116.json\n",
            "117.json\n",
            "118.json\n",
            "119.json\n",
            "120.json\n",
            "121.json\n",
            "122.json\n",
            "123.json\n",
            "124.json\n",
            "125.json\n",
            "126.json\n",
            "127.json\n",
            "128.json\n",
            "129.json\n",
            "130.json\n",
            "131.json\n",
            "132.json\n",
            "133.json\n",
            "134.json\n",
            "135.json\n",
            "136.json\n",
            "137.json\n",
            "138.json\n",
            "139.json\n",
            "140.json\n",
            "141.json\n",
            "142.json\n",
            "143.json\n",
            "144.json\n",
            "145.json\n",
            "146.json\n",
            "147.json\n",
            "148.json\n",
            "149.json\n",
            "150.json\n",
            "151.json\n",
            "152.json\n",
            "153.json\n",
            "154.json\n",
            "155.json\n",
            "156.json\n",
            "157.json\n",
            "158.json\n",
            "159.json\n",
            "160.json\n",
            "161.json\n",
            "162.json\n",
            "163.json\n",
            "164.json\n",
            "165.json\n",
            "166.json\n",
            "168.json\n",
            "169.json\n",
            "170.json\n",
            "email_data_.ipynb_checkpoints.csv\n"
          ]
        }
      ]
    },
    {
      "cell_type": "code",
      "metadata": {
        "id": "8UDsl9_rbo2A"
      },
      "source": [
        "import pandas as pd"
      ],
      "execution_count": null,
      "outputs": []
    },
    {
      "cell_type": "code",
      "metadata": {
        "id": "kAPQRMgPTr2d"
      },
      "source": [
        "os.chdir('/content/gdrive/My Drive/Email-Classifier/arsh_emails/')"
      ],
      "execution_count": null,
      "outputs": []
    },
    {
      "cell_type": "code",
      "metadata": {
        "colab": {
          "base_uri": "https://localhost:8080/",
          "height": 417
        },
        "id": "w80N4VJeUSHD",
        "outputId": "dc60bc03-0532-42ca-8f23-0c243938c2e9"
      },
      "source": [
        "academic_df = pd.read_csv('email_data_Academic.csv')\n",
        "academic_df"
      ],
      "execution_count": null,
      "outputs": [
        {
          "output_type": "execute_result",
          "data": {
            "text/html": [
              "<div>\n",
              "<style scoped>\n",
              "    .dataframe tbody tr th:only-of-type {\n",
              "        vertical-align: middle;\n",
              "    }\n",
              "\n",
              "    .dataframe tbody tr th {\n",
              "        vertical-align: top;\n",
              "    }\n",
              "\n",
              "    .dataframe thead th {\n",
              "        text-align: right;\n",
              "    }\n",
              "</style>\n",
              "<table border=\"1\" class=\"dataframe\">\n",
              "  <thead>\n",
              "    <tr style=\"text-align: right;\">\n",
              "      <th></th>\n",
              "      <th>subject</th>\n",
              "      <th>from</th>\n",
              "      <th>date</th>\n",
              "      <th>body</th>\n",
              "    </tr>\n",
              "  </thead>\n",
              "  <tbody>\n",
              "    <tr>\n",
              "      <th>0</th>\n",
              "      <td>=?UTF-8?Q?New_announcement=3A_=22All_student_g...</td>\n",
              "      <td>\"Pradipta Chattopadhyay (Classroom)\" &lt;no-reply...</td>\n",
              "      <td>Sun, 17 Oct 2021 10:36:27 -0700</td>\n",
              "      <td>\\r\\nHi ARSH,\\r\\nPradipta Chattopadhyay posted ...</td>\n",
              "    </tr>\n",
              "    <tr>\n",
              "      <th>1</th>\n",
              "      <td>=?UTF-8?Q?New_announcement=3A_=22As_announced_...</td>\n",
              "      <td>\"Pradipta Chattopadhyay (Classroom)\" &lt;no-reply...</td>\n",
              "      <td>Sun, 17 Oct 2021 10:26:10 -0700</td>\n",
              "      <td>\\r\\nHi ARSH,\\r\\nPradipta Chattopadhyay posted ...</td>\n",
              "    </tr>\n",
              "    <tr>\n",
              "      <th>2</th>\n",
              "      <td>=?UTF-8?Q?New_announcement=3A_=22CEL_I_Lab_Mid...</td>\n",
              "      <td>\"Pradipta Chattopadhyay (Classroom)\" &lt;no-reply...</td>\n",
              "      <td>Thu, 14 Oct 2021 08:41:03 -0700</td>\n",
              "      <td>\\r\\nHi ARSH,\\r\\nPradipta Chattopadhyay posted ...</td>\n",
              "    </tr>\n",
              "    <tr>\n",
              "      <th>3</th>\n",
              "      <td>=?UTF-8?Q?New_announcement=3A_=22Lab_Marks=C2=...</td>\n",
              "      <td>\"Pradipta Chattopadhyay (Classroom)\" &lt;no-reply...</td>\n",
              "      <td>Thu, 14 Oct 2021 08:22:40 -0700</td>\n",
              "      <td>\\r\\nHi ARSH,\\r\\nPradipta Chattopadhyay posted ...</td>\n",
              "    </tr>\n",
              "    <tr>\n",
              "      <th>4</th>\n",
              "      <td>=?UTF-8?Q?New_announcement=3A_=22CEL_I_Lab_Qui...</td>\n",
              "      <td>\"Pradipta Chattopadhyay (Classroom)\" &lt;no-reply...</td>\n",
              "      <td>Thu, 21 Oct 2021 03:52:28 -0700</td>\n",
              "      <td>\\r\\nHi ARSH,\\r\\nPradipta Chattopadhyay posted ...</td>\n",
              "    </tr>\n",
              "    <tr>\n",
              "      <th>...</th>\n",
              "      <td>...</td>\n",
              "      <td>...</td>\n",
              "      <td>...</td>\n",
              "      <td>...</td>\n",
              "    </tr>\n",
              "    <tr>\n",
              "      <th>168</th>\n",
              "      <td>Physics 1 Lab Assignment submission</td>\n",
              "      <td>Debashis Bandyopadhyay &lt;debashis.bandy@gmail.com&gt;</td>\n",
              "      <td>Tue, 17 Sep 2019 10:25:25 +0530</td>\n",
              "      <td>*NOTICE*\\r\\n\\r\\n*PHYSICS 1 LAB (Phy F110)*\\r\\n...</td>\n",
              "    </tr>\n",
              "    <tr>\n",
              "      <th>169</th>\n",
              "      <td>11451001008_CS F111: Midsem grades</td>\n",
              "      <td>\"Pratik Narang . (via Nalanda)\" &lt;pilanihyd@sec...</td>\n",
              "      <td>Fri, 18 Oct 2019 19:26:57 +0530</td>\n",
              "      <td>\\r\\n11451001008_CS F111 -&gt; Forums -&gt; Announcem...</td>\n",
              "    </tr>\n",
              "    <tr>\n",
              "      <th>170</th>\n",
              "      <td>11451001010_MATH F111: Notice for mid sem dist...</td>\n",
              "      <td>\"Suresh Kumar . . (via Nalanda)\" &lt;pilanihyd@se...</td>\n",
              "      <td>Tue, 15 Oct 2019 20:49:30 +0530</td>\n",
              "      <td>\\r\\n11451001010_MATH F111 -&gt; Forums -&gt; Announc...</td>\n",
              "    </tr>\n",
              "    <tr>\n",
              "      <th>171</th>\n",
              "      <td>11451001006_CHEM F110: CHEM F110 CHEM LAB Comp...</td>\n",
              "      <td>\"Paritosh Shukla . . (via Nalanda)\" &lt;pilanihyd...</td>\n",
              "      <td>Mon, 25 Nov 2019 11:30:00 +0530</td>\n",
              "      <td>\\r\\n11451001006_CHEM F110 -&gt; Forums -&gt; Announc...</td>\n",
              "    </tr>\n",
              "    <tr>\n",
              "      <th>172</th>\n",
              "      <td>BITS F111 THERMODYNAMICS Notice ONLINE QUIZ ti...</td>\n",
              "      <td>\"Prof. Manoj Soni\" &lt;mssoni@pilani.bits-pilani....</td>\n",
              "      <td>Thu, 28 Nov 2019 09:52:50 +0530</td>\n",
              "      <td>Dear Students,\\r\\nAs lots of students faced pr...</td>\n",
              "    </tr>\n",
              "  </tbody>\n",
              "</table>\n",
              "<p>173 rows × 4 columns</p>\n",
              "</div>"
            ],
            "text/plain": [
              "                                               subject  ...                                               body\n",
              "0    =?UTF-8?Q?New_announcement=3A_=22All_student_g...  ...  \\r\\nHi ARSH,\\r\\nPradipta Chattopadhyay posted ...\n",
              "1    =?UTF-8?Q?New_announcement=3A_=22As_announced_...  ...  \\r\\nHi ARSH,\\r\\nPradipta Chattopadhyay posted ...\n",
              "2    =?UTF-8?Q?New_announcement=3A_=22CEL_I_Lab_Mid...  ...  \\r\\nHi ARSH,\\r\\nPradipta Chattopadhyay posted ...\n",
              "3    =?UTF-8?Q?New_announcement=3A_=22Lab_Marks=C2=...  ...  \\r\\nHi ARSH,\\r\\nPradipta Chattopadhyay posted ...\n",
              "4    =?UTF-8?Q?New_announcement=3A_=22CEL_I_Lab_Qui...  ...  \\r\\nHi ARSH,\\r\\nPradipta Chattopadhyay posted ...\n",
              "..                                                 ...  ...                                                ...\n",
              "168                Physics 1 Lab Assignment submission  ...  *NOTICE*\\r\\n\\r\\n*PHYSICS 1 LAB (Phy F110)*\\r\\n...\n",
              "169                 11451001008_CS F111: Midsem grades  ...  \\r\\n11451001008_CS F111 -> Forums -> Announcem...\n",
              "170  11451001010_MATH F111: Notice for mid sem dist...  ...  \\r\\n11451001010_MATH F111 -> Forums -> Announc...\n",
              "171  11451001006_CHEM F110: CHEM F110 CHEM LAB Comp...  ...  \\r\\n11451001006_CHEM F110 -> Forums -> Announc...\n",
              "172  BITS F111 THERMODYNAMICS Notice ONLINE QUIZ ti...  ...  Dear Students,\\r\\nAs lots of students faced pr...\n",
              "\n",
              "[173 rows x 4 columns]"
            ]
          },
          "metadata": {},
          "execution_count": 21
        }
      ]
    },
    {
      "cell_type": "code",
      "metadata": {
        "id": "DhOyUuirVwbI"
      },
      "source": [
        "academic_df['Label'] = 'Academic'"
      ],
      "execution_count": null,
      "outputs": []
    },
    {
      "cell_type": "code",
      "metadata": {
        "colab": {
          "base_uri": "https://localhost:8080/",
          "height": 585
        },
        "id": "vNSUQ4gkUbOh",
        "outputId": "00a40216-a514-46cf-dc2d-a0d7ce9adff4"
      },
      "source": [
        "admin_df = pd.read_csv('email_data_Admin-Notices.csv')\n",
        "admin_df['Label'] = 'Admin'\n",
        "admin_df"
      ],
      "execution_count": null,
      "outputs": [
        {
          "output_type": "execute_result",
          "data": {
            "text/html": [
              "<div>\n",
              "<style scoped>\n",
              "    .dataframe tbody tr th:only-of-type {\n",
              "        vertical-align: middle;\n",
              "    }\n",
              "\n",
              "    .dataframe tbody tr th {\n",
              "        vertical-align: top;\n",
              "    }\n",
              "\n",
              "    .dataframe thead th {\n",
              "        text-align: right;\n",
              "    }\n",
              "</style>\n",
              "<table border=\"1\" class=\"dataframe\">\n",
              "  <thead>\n",
              "    <tr style=\"text-align: right;\">\n",
              "      <th></th>\n",
              "      <th>subject</th>\n",
              "      <th>from</th>\n",
              "      <th>date</th>\n",
              "      <th>body</th>\n",
              "      <th>Label</th>\n",
              "    </tr>\n",
              "  </thead>\n",
              "  <tbody>\n",
              "    <tr>\n",
              "      <th>0</th>\n",
              "      <td>Schedule of Mid Semester Make-up Examination</td>\n",
              "      <td>AUGSD Pilani &lt;augsdpilani@pilani.bits-pilani.a...</td>\n",
              "      <td>Mon, 8 Nov 2021 13:10:26 +0530</td>\n",
              "      <td>Dear All,\\r\\n\\r\\n\\r\\n\\r\\nYou can see the sched...</td>\n",
              "      <td>Admin</td>\n",
              "    </tr>\n",
              "    <tr>\n",
              "      <th>1</th>\n",
              "      <td>Class rooms assigned for all ongoing courses</td>\n",
              "      <td>AUGSD Pilani &lt;augsdpilani@pilani.bits-pilani.a...</td>\n",
              "      <td>Mon, 8 Nov 2021 10:31:47 +0530</td>\n",
              "      <td>Dear Students,\\r\\n\\r\\n\\r\\n\\r\\nPlease note that...</td>\n",
              "      <td>Admin</td>\n",
              "    </tr>\n",
              "    <tr>\n",
              "      <th>2</th>\n",
              "      <td>Evening Canteen Extended</td>\n",
              "      <td>\"Mail Admin @ Pilani Campus\" &lt;mailadmin@pilani...</td>\n",
              "      <td>Sat, 6 Nov 2021 11:56:25 +0530</td>\n",
              "      <td>SOCIETY FOR STUDENT MESS SERVICES, PILANI\\r\\n\\...</td>\n",
              "      <td>Admin</td>\n",
              "    </tr>\n",
              "    <tr>\n",
              "      <th>3</th>\n",
              "      <td>Students' Union Cab Service | Diwali Vacations</td>\n",
              "      <td>\"General Secretary, Harsh Lamba\" &lt;gensec@pilan...</td>\n",
              "      <td>Fri, 29 Oct 2021 18:52:40 +0530</td>\n",
              "      <td>*Greetings from the Students' Union!*\\r\\n\\r\\nA...</td>\n",
              "      <td>Admin</td>\n",
              "    </tr>\n",
              "    <tr>\n",
              "      <th>4</th>\n",
              "      <td>Revised Library Timings w.e.f 30th October 2021</td>\n",
              "      <td>\"Mail Admin @ Pilani Campus\" &lt;mailadmin@pilani...</td>\n",
              "      <td>Fri, 29 Oct 2021 14:45:15 +0530</td>\n",
              "      <td>Dear  All,\\r\\n\\r\\nPlease note the revised libr...</td>\n",
              "      <td>Admin</td>\n",
              "    </tr>\n",
              "    <tr>\n",
              "      <th>...</th>\n",
              "      <td>...</td>\n",
              "      <td>...</td>\n",
              "      <td>...</td>\n",
              "      <td>...</td>\n",
              "      <td>...</td>\n",
              "    </tr>\n",
              "    <tr>\n",
              "      <th>165</th>\n",
              "      <td>VERTICAL TRANSFER NOTICE FOR GRADUATING STUDEN...</td>\n",
              "      <td>\"Mail Admin @ Pilani Campus\" &lt;mailadmin@pilani...</td>\n",
              "      <td>Thu, 19 Nov 2020 12:58:41 +0530</td>\n",
              "      <td>Dear Students,\\r\\n\\r\\n\\r\\n\\r\\nThe Institute=E2...</td>\n",
              "      <td>Admin</td>\n",
              "    </tr>\n",
              "    <tr>\n",
              "      <th>166</th>\n",
              "      <td>Emergency Response System</td>\n",
              "      <td>\"Mail Admin @ Pilani Campus\" &lt;mailadmin@pilani...</td>\n",
              "      <td>Mon, 21 Jun 2021 15:54:06 +0530</td>\n",
              "      <td>Notice\\r\\nEmergency Response System\\r\\n\\r\\nDea...</td>\n",
              "      <td>Admin</td>\n",
              "    </tr>\n",
              "    <tr>\n",
              "      <th>167</th>\n",
              "      <td>FDTS/HDD application for the Second Semester 2...</td>\n",
              "      <td>AUGSD Pilani &lt;augsdpilani@pilani.bits-pilani.a...</td>\n",
              "      <td>Thu, 22 Oct 2020 10:31:33 +0530</td>\n",
              "      <td>*BIRLA INSTITUTE OF TECHNOLOGY AND SCIENCE, PI...</td>\n",
              "      <td>Admin</td>\n",
              "    </tr>\n",
              "    <tr>\n",
              "      <th>168</th>\n",
              "      <td>Notice for Withdrawal of Course (s)</td>\n",
              "      <td>RC BITS Pilani &lt;fic.rc@pilani.bits-pilani.ac.in&gt;</td>\n",
              "      <td>Fri, 16 Oct 2020 10:48:02 +0530</td>\n",
              "      <td>*BIRLA INSTITUTE OF TECHNOLOGY &amp; SCIENCE, PILA...</td>\n",
              "      <td>Admin</td>\n",
              "    </tr>\n",
              "    <tr>\n",
              "      <th>169</th>\n",
              "      <td>Notice for Changes in Timetable (I Sem. 2020-21)</td>\n",
              "      <td>AUGSD Pilani &lt;augsdpilani@pilani.bits-pilani.a...</td>\n",
              "      <td>Fri, 21 Aug 2020 15:45:04 +0530</td>\n",
              "      <td>*BIRLA INSTITUTE OF TECHNOLOGY AND SCIENCE, PI...</td>\n",
              "      <td>Admin</td>\n",
              "    </tr>\n",
              "  </tbody>\n",
              "</table>\n",
              "<p>170 rows × 5 columns</p>\n",
              "</div>"
            ],
            "text/plain": [
              "                                               subject  ...  Label\n",
              "0         Schedule of Mid Semester Make-up Examination  ...  Admin\n",
              "1         Class rooms assigned for all ongoing courses  ...  Admin\n",
              "2                             Evening Canteen Extended  ...  Admin\n",
              "3       Students' Union Cab Service | Diwali Vacations  ...  Admin\n",
              "4      Revised Library Timings w.e.f 30th October 2021  ...  Admin\n",
              "..                                                 ...  ...    ...\n",
              "165  VERTICAL TRANSFER NOTICE FOR GRADUATING STUDEN...  ...  Admin\n",
              "166                          Emergency Response System  ...  Admin\n",
              "167  FDTS/HDD application for the Second Semester 2...  ...  Admin\n",
              "168                Notice for Withdrawal of Course (s)  ...  Admin\n",
              "169   Notice for Changes in Timetable (I Sem. 2020-21)  ...  Admin\n",
              "\n",
              "[170 rows x 5 columns]"
            ]
          },
          "metadata": {},
          "execution_count": 23
        }
      ]
    },
    {
      "cell_type": "code",
      "metadata": {
        "id": "T6NjExmgVod9"
      },
      "source": [
        "formal_df = pd.read_csv('email_data_Formal-Events.csv')\n",
        "formal_df['Label'] = 'Formal'"
      ],
      "execution_count": null,
      "outputs": []
    },
    {
      "cell_type": "code",
      "metadata": {
        "id": "YU4aUwPiV-0m"
      },
      "source": [
        "intern_df = pd.read_csv('email_data_Internship-Placements.csv')\n",
        "intern_df['Label'] = 'Intern/Placement'"
      ],
      "execution_count": null,
      "outputs": []
    },
    {
      "cell_type": "code",
      "metadata": {
        "id": "gmvzoKrWWSqF"
      },
      "source": [
        "recreation_df = pd.read_csv('email_data_Recreation-Clubs.csv')\n",
        "recreation_df['Label'] = 'Recreation'"
      ],
      "execution_count": null,
      "outputs": []
    },
    {
      "cell_type": "code",
      "metadata": {
        "id": "bz7fru8bWesP"
      },
      "source": [
        "spam_df = pd.read_csv('email_data_Spam.csv')\n",
        "spam_df['Label'] = 'Spam'"
      ],
      "execution_count": null,
      "outputs": []
    },
    {
      "cell_type": "code",
      "metadata": {
        "colab": {
          "base_uri": "https://localhost:8080/",
          "height": 585
        },
        "id": "7HmIbdxVWmjW",
        "outputId": "27909227-b122-45bf-9d88-59ab9b4b2e93"
      },
      "source": [
        "df_email = pd.concat([admin_df, recreation_df, spam_df, intern_df, formal_df, academic_df], axis = 0).reset_index(drop = True)\n",
        "df_email"
      ],
      "execution_count": null,
      "outputs": [
        {
          "output_type": "execute_result",
          "data": {
            "text/html": [
              "<div>\n",
              "<style scoped>\n",
              "    .dataframe tbody tr th:only-of-type {\n",
              "        vertical-align: middle;\n",
              "    }\n",
              "\n",
              "    .dataframe tbody tr th {\n",
              "        vertical-align: top;\n",
              "    }\n",
              "\n",
              "    .dataframe thead th {\n",
              "        text-align: right;\n",
              "    }\n",
              "</style>\n",
              "<table border=\"1\" class=\"dataframe\">\n",
              "  <thead>\n",
              "    <tr style=\"text-align: right;\">\n",
              "      <th></th>\n",
              "      <th>subject</th>\n",
              "      <th>from</th>\n",
              "      <th>date</th>\n",
              "      <th>body</th>\n",
              "      <th>Label</th>\n",
              "    </tr>\n",
              "  </thead>\n",
              "  <tbody>\n",
              "    <tr>\n",
              "      <th>0</th>\n",
              "      <td>Schedule of Mid Semester Make-up Examination</td>\n",
              "      <td>AUGSD Pilani &lt;augsdpilani@pilani.bits-pilani.a...</td>\n",
              "      <td>Mon, 8 Nov 2021 13:10:26 +0530</td>\n",
              "      <td>Dear All,\\r\\n\\r\\n\\r\\n\\r\\nYou can see the sched...</td>\n",
              "      <td>Admin</td>\n",
              "    </tr>\n",
              "    <tr>\n",
              "      <th>1</th>\n",
              "      <td>Class rooms assigned for all ongoing courses</td>\n",
              "      <td>AUGSD Pilani &lt;augsdpilani@pilani.bits-pilani.a...</td>\n",
              "      <td>Mon, 8 Nov 2021 10:31:47 +0530</td>\n",
              "      <td>Dear Students,\\r\\n\\r\\n\\r\\n\\r\\nPlease note that...</td>\n",
              "      <td>Admin</td>\n",
              "    </tr>\n",
              "    <tr>\n",
              "      <th>2</th>\n",
              "      <td>Evening Canteen Extended</td>\n",
              "      <td>\"Mail Admin @ Pilani Campus\" &lt;mailadmin@pilani...</td>\n",
              "      <td>Sat, 6 Nov 2021 11:56:25 +0530</td>\n",
              "      <td>SOCIETY FOR STUDENT MESS SERVICES, PILANI\\r\\n\\...</td>\n",
              "      <td>Admin</td>\n",
              "    </tr>\n",
              "    <tr>\n",
              "      <th>3</th>\n",
              "      <td>Students' Union Cab Service | Diwali Vacations</td>\n",
              "      <td>\"General Secretary, Harsh Lamba\" &lt;gensec@pilan...</td>\n",
              "      <td>Fri, 29 Oct 2021 18:52:40 +0530</td>\n",
              "      <td>*Greetings from the Students' Union!*\\r\\n\\r\\nA...</td>\n",
              "      <td>Admin</td>\n",
              "    </tr>\n",
              "    <tr>\n",
              "      <th>4</th>\n",
              "      <td>Revised Library Timings w.e.f 30th October 2021</td>\n",
              "      <td>\"Mail Admin @ Pilani Campus\" &lt;mailadmin@pilani...</td>\n",
              "      <td>Fri, 29 Oct 2021 14:45:15 +0530</td>\n",
              "      <td>Dear  All,\\r\\n\\r\\nPlease note the revised libr...</td>\n",
              "      <td>Admin</td>\n",
              "    </tr>\n",
              "    <tr>\n",
              "      <th>...</th>\n",
              "      <td>...</td>\n",
              "      <td>...</td>\n",
              "      <td>...</td>\n",
              "      <td>...</td>\n",
              "      <td>...</td>\n",
              "    </tr>\n",
              "    <tr>\n",
              "      <th>1001</th>\n",
              "      <td>Physics 1 Lab Assignment submission</td>\n",
              "      <td>Debashis Bandyopadhyay &lt;debashis.bandy@gmail.com&gt;</td>\n",
              "      <td>Tue, 17 Sep 2019 10:25:25 +0530</td>\n",
              "      <td>*NOTICE*\\r\\n\\r\\n*PHYSICS 1 LAB (Phy F110)*\\r\\n...</td>\n",
              "      <td>Academic</td>\n",
              "    </tr>\n",
              "    <tr>\n",
              "      <th>1002</th>\n",
              "      <td>11451001008_CS F111: Midsem grades</td>\n",
              "      <td>\"Pratik Narang . (via Nalanda)\" &lt;pilanihyd@sec...</td>\n",
              "      <td>Fri, 18 Oct 2019 19:26:57 +0530</td>\n",
              "      <td>\\r\\n11451001008_CS F111 -&gt; Forums -&gt; Announcem...</td>\n",
              "      <td>Academic</td>\n",
              "    </tr>\n",
              "    <tr>\n",
              "      <th>1003</th>\n",
              "      <td>11451001010_MATH F111: Notice for mid sem dist...</td>\n",
              "      <td>\"Suresh Kumar . . (via Nalanda)\" &lt;pilanihyd@se...</td>\n",
              "      <td>Tue, 15 Oct 2019 20:49:30 +0530</td>\n",
              "      <td>\\r\\n11451001010_MATH F111 -&gt; Forums -&gt; Announc...</td>\n",
              "      <td>Academic</td>\n",
              "    </tr>\n",
              "    <tr>\n",
              "      <th>1004</th>\n",
              "      <td>11451001006_CHEM F110: CHEM F110 CHEM LAB Comp...</td>\n",
              "      <td>\"Paritosh Shukla . . (via Nalanda)\" &lt;pilanihyd...</td>\n",
              "      <td>Mon, 25 Nov 2019 11:30:00 +0530</td>\n",
              "      <td>\\r\\n11451001006_CHEM F110 -&gt; Forums -&gt; Announc...</td>\n",
              "      <td>Academic</td>\n",
              "    </tr>\n",
              "    <tr>\n",
              "      <th>1005</th>\n",
              "      <td>BITS F111 THERMODYNAMICS Notice ONLINE QUIZ ti...</td>\n",
              "      <td>\"Prof. Manoj Soni\" &lt;mssoni@pilani.bits-pilani....</td>\n",
              "      <td>Thu, 28 Nov 2019 09:52:50 +0530</td>\n",
              "      <td>Dear Students,\\r\\nAs lots of students faced pr...</td>\n",
              "      <td>Academic</td>\n",
              "    </tr>\n",
              "  </tbody>\n",
              "</table>\n",
              "<p>1006 rows × 5 columns</p>\n",
              "</div>"
            ],
            "text/plain": [
              "                                                subject  ...     Label\n",
              "0          Schedule of Mid Semester Make-up Examination  ...     Admin\n",
              "1          Class rooms assigned for all ongoing courses  ...     Admin\n",
              "2                              Evening Canteen Extended  ...     Admin\n",
              "3        Students' Union Cab Service | Diwali Vacations  ...     Admin\n",
              "4       Revised Library Timings w.e.f 30th October 2021  ...     Admin\n",
              "...                                                 ...  ...       ...\n",
              "1001                Physics 1 Lab Assignment submission  ...  Academic\n",
              "1002                 11451001008_CS F111: Midsem grades  ...  Academic\n",
              "1003  11451001010_MATH F111: Notice for mid sem dist...  ...  Academic\n",
              "1004  11451001006_CHEM F110: CHEM F110 CHEM LAB Comp...  ...  Academic\n",
              "1005  BITS F111 THERMODYNAMICS Notice ONLINE QUIZ ti...  ...  Academic\n",
              "\n",
              "[1006 rows x 5 columns]"
            ]
          },
          "metadata": {},
          "execution_count": 42
        }
      ]
    },
    {
      "cell_type": "code",
      "metadata": {
        "id": "7txgvCrkXWfi"
      },
      "source": [
        "df_email.drop(['subject', 'from', 'date'], axis=1, inplace=True)"
      ],
      "execution_count": null,
      "outputs": []
    },
    {
      "cell_type": "code",
      "metadata": {
        "colab": {
          "base_uri": "https://localhost:8080/",
          "height": 417
        },
        "id": "vEUZFDHqYdGU",
        "outputId": "69238fff-8e7b-4863-8294-f3a00027aec5"
      },
      "source": [
        "df_email"
      ],
      "execution_count": null,
      "outputs": [
        {
          "output_type": "execute_result",
          "data": {
            "text/html": [
              "<div>\n",
              "<style scoped>\n",
              "    .dataframe tbody tr th:only-of-type {\n",
              "        vertical-align: middle;\n",
              "    }\n",
              "\n",
              "    .dataframe tbody tr th {\n",
              "        vertical-align: top;\n",
              "    }\n",
              "\n",
              "    .dataframe thead th {\n",
              "        text-align: right;\n",
              "    }\n",
              "</style>\n",
              "<table border=\"1\" class=\"dataframe\">\n",
              "  <thead>\n",
              "    <tr style=\"text-align: right;\">\n",
              "      <th></th>\n",
              "      <th>body</th>\n",
              "      <th>Label</th>\n",
              "    </tr>\n",
              "  </thead>\n",
              "  <tbody>\n",
              "    <tr>\n",
              "      <th>0</th>\n",
              "      <td>Dear All,\\r\\n\\r\\n\\r\\n\\r\\nYou can see the sched...</td>\n",
              "      <td>Admin</td>\n",
              "    </tr>\n",
              "    <tr>\n",
              "      <th>1</th>\n",
              "      <td>Dear Students,\\r\\n\\r\\n\\r\\n\\r\\nPlease note that...</td>\n",
              "      <td>Admin</td>\n",
              "    </tr>\n",
              "    <tr>\n",
              "      <th>2</th>\n",
              "      <td>SOCIETY FOR STUDENT MESS SERVICES, PILANI\\r\\n\\...</td>\n",
              "      <td>Admin</td>\n",
              "    </tr>\n",
              "    <tr>\n",
              "      <th>3</th>\n",
              "      <td>*Greetings from the Students' Union!*\\r\\n\\r\\nA...</td>\n",
              "      <td>Admin</td>\n",
              "    </tr>\n",
              "    <tr>\n",
              "      <th>4</th>\n",
              "      <td>Dear  All,\\r\\n\\r\\nPlease note the revised libr...</td>\n",
              "      <td>Admin</td>\n",
              "    </tr>\n",
              "    <tr>\n",
              "      <th>...</th>\n",
              "      <td>...</td>\n",
              "      <td>...</td>\n",
              "    </tr>\n",
              "    <tr>\n",
              "      <th>1001</th>\n",
              "      <td>*NOTICE*\\r\\n\\r\\n*PHYSICS 1 LAB (Phy F110)*\\r\\n...</td>\n",
              "      <td>Academic</td>\n",
              "    </tr>\n",
              "    <tr>\n",
              "      <th>1002</th>\n",
              "      <td>\\r\\n11451001008_CS F111 -&gt; Forums -&gt; Announcem...</td>\n",
              "      <td>Academic</td>\n",
              "    </tr>\n",
              "    <tr>\n",
              "      <th>1003</th>\n",
              "      <td>\\r\\n11451001010_MATH F111 -&gt; Forums -&gt; Announc...</td>\n",
              "      <td>Academic</td>\n",
              "    </tr>\n",
              "    <tr>\n",
              "      <th>1004</th>\n",
              "      <td>\\r\\n11451001006_CHEM F110 -&gt; Forums -&gt; Announc...</td>\n",
              "      <td>Academic</td>\n",
              "    </tr>\n",
              "    <tr>\n",
              "      <th>1005</th>\n",
              "      <td>Dear Students,\\r\\nAs lots of students faced pr...</td>\n",
              "      <td>Academic</td>\n",
              "    </tr>\n",
              "  </tbody>\n",
              "</table>\n",
              "<p>1006 rows × 2 columns</p>\n",
              "</div>"
            ],
            "text/plain": [
              "                                                   body     Label\n",
              "0     Dear All,\\r\\n\\r\\n\\r\\n\\r\\nYou can see the sched...     Admin\n",
              "1     Dear Students,\\r\\n\\r\\n\\r\\n\\r\\nPlease note that...     Admin\n",
              "2     SOCIETY FOR STUDENT MESS SERVICES, PILANI\\r\\n\\...     Admin\n",
              "3     *Greetings from the Students' Union!*\\r\\n\\r\\nA...     Admin\n",
              "4     Dear  All,\\r\\n\\r\\nPlease note the revised libr...     Admin\n",
              "...                                                 ...       ...\n",
              "1001  *NOTICE*\\r\\n\\r\\n*PHYSICS 1 LAB (Phy F110)*\\r\\n...  Academic\n",
              "1002  \\r\\n11451001008_CS F111 -> Forums -> Announcem...  Academic\n",
              "1003  \\r\\n11451001010_MATH F111 -> Forums -> Announc...  Academic\n",
              "1004  \\r\\n11451001006_CHEM F110 -> Forums -> Announc...  Academic\n",
              "1005  Dear Students,\\r\\nAs lots of students faced pr...  Academic\n",
              "\n",
              "[1006 rows x 2 columns]"
            ]
          },
          "metadata": {},
          "execution_count": 44
        }
      ]
    },
    {
      "cell_type": "code",
      "metadata": {
        "id": "fs79hWQPYd_p"
      },
      "source": [
        "def remove_newlines_tabs(text):\n",
        "    \"\"\"\n",
        "    This function will remove all the occurrences of newlines, tabs, and combinations like: \\\\n, \\\\.\n",
        "    \n",
        "    arguments:\n",
        "        input_text: \"text\" of type \"String\". \n",
        "                    \n",
        "    return:\n",
        "        value: \"text\" after removal of newlines, tabs, \\\\n, \\\\ characters.\n",
        "        \n",
        "    Example:\n",
        "    Input : This is her \\\\ first day at this place.\\n Please,\\t Be nice to her.\\\\n\n",
        "    Output : This is her first day at this place. Please, Be nice to her. \n",
        "    \n",
        "    \"\"\"\n",
        "    \n",
        "    # Replacing all the occurrences of \\n,\\\\n,\\t,\\\\ with a space.\n",
        "    try:\n",
        "      Formatted_text = text.replace('\\\\n', ' ').replace('\\n', ' ').replace('\\t',' ').replace('\\\\', ' ').replace('. com', '.com').replace('\\r', ' ').replace('=0D', ' ')\n",
        "    except:\n",
        "      Formatted_text = text\n",
        "\n",
        "    return Formatted_text"
      ],
      "execution_count": null,
      "outputs": []
    },
    {
      "cell_type": "code",
      "metadata": {
        "id": "0_SZEdbuZE9A"
      },
      "source": [
        "df_email['body'] = df_email['body'].apply(remove_newlines_tabs)"
      ],
      "execution_count": null,
      "outputs": []
    },
    {
      "cell_type": "code",
      "metadata": {
        "colab": {
          "base_uri": "https://localhost:8080/",
          "height": 417
        },
        "id": "8VuTSQ7hZRnl",
        "outputId": "88116eed-16f3-47aa-d7d9-d2602807f10f"
      },
      "source": [
        "df_email"
      ],
      "execution_count": null,
      "outputs": [
        {
          "output_type": "execute_result",
          "data": {
            "text/html": [
              "<div>\n",
              "<style scoped>\n",
              "    .dataframe tbody tr th:only-of-type {\n",
              "        vertical-align: middle;\n",
              "    }\n",
              "\n",
              "    .dataframe tbody tr th {\n",
              "        vertical-align: top;\n",
              "    }\n",
              "\n",
              "    .dataframe thead th {\n",
              "        text-align: right;\n",
              "    }\n",
              "</style>\n",
              "<table border=\"1\" class=\"dataframe\">\n",
              "  <thead>\n",
              "    <tr style=\"text-align: right;\">\n",
              "      <th></th>\n",
              "      <th>body</th>\n",
              "      <th>Label</th>\n",
              "    </tr>\n",
              "  </thead>\n",
              "  <tbody>\n",
              "    <tr>\n",
              "      <th>0</th>\n",
              "      <td>Dear All,        You can see the schedule of M...</td>\n",
              "      <td>Admin</td>\n",
              "    </tr>\n",
              "    <tr>\n",
              "      <th>1</th>\n",
              "      <td>Dear Students,        Please note that in orde...</td>\n",
              "      <td>Admin</td>\n",
              "    </tr>\n",
              "    <tr>\n",
              "      <th>2</th>\n",
              "      <td>SOCIETY FOR STUDENT MESS SERVICES, PILANI    (...</td>\n",
              "      <td>Admin</td>\n",
              "    </tr>\n",
              "    <tr>\n",
              "      <th>3</th>\n",
              "      <td>*Greetings from the Students' Union!*    As th...</td>\n",
              "      <td>Admin</td>\n",
              "    </tr>\n",
              "    <tr>\n",
              "      <th>4</th>\n",
              "      <td>Dear  All,    Please note the revised library ...</td>\n",
              "      <td>Admin</td>\n",
              "    </tr>\n",
              "    <tr>\n",
              "      <th>...</th>\n",
              "      <td>...</td>\n",
              "      <td>...</td>\n",
              "    </tr>\n",
              "    <tr>\n",
              "      <th>1001</th>\n",
              "      <td>*NOTICE*    *PHYSICS 1 LAB (Phy F110)*    *Sub...</td>\n",
              "      <td>Academic</td>\n",
              "    </tr>\n",
              "    <tr>\n",
              "      <th>1002</th>\n",
              "      <td>11451001008_CS F111 -&gt; Forums -&gt; Announcemen...</td>\n",
              "      <td>Academic</td>\n",
              "    </tr>\n",
              "    <tr>\n",
              "      <th>1003</th>\n",
              "      <td>11451001010_MATH F111 -&gt; Forums -&gt; Announcem...</td>\n",
              "      <td>Academic</td>\n",
              "    </tr>\n",
              "    <tr>\n",
              "      <th>1004</th>\n",
              "      <td>11451001006_CHEM F110 -&gt; Forums -&gt; Announcem...</td>\n",
              "      <td>Academic</td>\n",
              "    </tr>\n",
              "    <tr>\n",
              "      <th>1005</th>\n",
              "      <td>Dear Students,  As lots of students faced prob...</td>\n",
              "      <td>Academic</td>\n",
              "    </tr>\n",
              "  </tbody>\n",
              "</table>\n",
              "<p>1006 rows × 2 columns</p>\n",
              "</div>"
            ],
            "text/plain": [
              "                                                   body     Label\n",
              "0     Dear All,        You can see the schedule of M...     Admin\n",
              "1     Dear Students,        Please note that in orde...     Admin\n",
              "2     SOCIETY FOR STUDENT MESS SERVICES, PILANI    (...     Admin\n",
              "3     *Greetings from the Students' Union!*    As th...     Admin\n",
              "4     Dear  All,    Please note the revised library ...     Admin\n",
              "...                                                 ...       ...\n",
              "1001  *NOTICE*    *PHYSICS 1 LAB (Phy F110)*    *Sub...  Academic\n",
              "1002    11451001008_CS F111 -> Forums -> Announcemen...  Academic\n",
              "1003    11451001010_MATH F111 -> Forums -> Announcem...  Academic\n",
              "1004    11451001006_CHEM F110 -> Forums -> Announcem...  Academic\n",
              "1005  Dear Students,  As lots of students faced prob...  Academic\n",
              "\n",
              "[1006 rows x 2 columns]"
            ]
          },
          "metadata": {},
          "execution_count": 47
        }
      ]
    },
    {
      "cell_type": "code",
      "metadata": {
        "id": "ZaxNZ_pwUQGg"
      },
      "source": [
        "def remove_links(text):\n",
        "    \"\"\"\n",
        "    This function will remove all the occurrences of links.\n",
        "    \n",
        "    arguments:\n",
        "        input_text: \"text\" of type \"String\". \n",
        "                    \n",
        "    return:\n",
        "        value: \"text\" after removal of all types of links.\n",
        "        \n",
        "    Example:\n",
        "    Input : To know more about this website: kajalyadav.com  visit: https://kajalyadav.com//Blogs\n",
        "    Output : To know more about this website: visit:     \n",
        "    \n",
        "    \"\"\"\n",
        "    try:\n",
        "      # Removing all the occurrences of links that starts with https\n",
        "      remove_https = re.sub(r'http\\S+', '', text)\n",
        "      # Remove all the occurrences of text that ends with .com\n",
        "      remove_com = re.sub(r\"\\ [A-Za-z]*\\.com\", \" \", remove_https)\n",
        "    except:\n",
        "      remove_com = text\n",
        "    \n",
        "    return remove_com"
      ],
      "execution_count": null,
      "outputs": []
    },
    {
      "cell_type": "code",
      "metadata": {
        "id": "cGUufbvmUVFg"
      },
      "source": [
        "df_email['body'] = df_email['body'].apply(remove_links)"
      ],
      "execution_count": null,
      "outputs": []
    },
    {
      "cell_type": "code",
      "metadata": {
        "colab": {
          "base_uri": "https://localhost:8080/",
          "height": 120
        },
        "id": "diuuzdBPVBHA",
        "outputId": "e3d3bfed-4647-44e3-e20c-e2d12808fdb7"
      },
      "source": [
        "df_email.iloc[533]['body']"
      ],
      "execution_count": null,
      "outputs": [
        {
          "output_type": "execute_result",
          "data": {
            "application/vnd.google.colaboratory.intrinsic+json": {
              "type": "string"
            },
            "text/plain": [
              "'<!DOCTYPE html PUBLIC \"-//W3C//DTD XHTML 1.0 Strict//EN\" \"  <html xmlns=\" xmlns=\"    <head>  <meta  content=\"text/html; charset=utf-8\" />  <meta name=\"viewport\" content=\"width=device-width, initial-scale=1.0\" />  <title>tps-notification</title></head>  <body style=\"background: #f0f0f0; font-family: \\'Helvetica\\', sans-serif; font-size: 14px; padding-top: 50px; padding-bottom:50px;\" bgcolor=\"#f0f0f0\">  <table cellpadding=\"0\" cellspacing=\"0\" style=\"align-content: center; border: 1px solid #ddd; margin: auto; width: 650px\">  <tr style=\"background: #fff\" bgcolor=\"#fff\">  <td style=\"font-family: \\'Muli\\', \\'Helvetica\\', sans-serif; font-weight: 200; padding: 10px; text-align: center\" align=\"center\">  <img src=\" style=\"width: 230px; padding:15px\" />  <hr style=\"border-bottom-color: #ccc; border-bottom-style: solid; border-width: 0 0 1px; width: 58%\" />  </td>  </tr>  <tr style=\"background: #fff\" bgcolor=\"#fff\">  <td style=\"padding: 30px;text-align: left\" align=\"justify\">  <p>Dear Student,</p>  <p>Cisco\\'s presentation is scheduled for today. It is compulsory to attend, if you wish to apply:</p>  <p>&nbsp;</p>  <p>Date &ndash; 5th Aug 2021, Thursday <br />Time &ndash; 05:00 pm to 06:00 pm (60 Minutes)</p>  <p>Link to the session : <a href=\"  <p>&nbsp;</p>  <p>Regards,&nbsp;</p>  <p>Placement Unit</p>  </td>  </tr>           <tr style=\"background: #fff\" bgcolor=\"#fff\">            <td style=\"padding: 30px;text-align: left\" align=\"justify\">            </td>       </tr>      <tr style=\"text-align:center; background:#f5f5f5\">  <td style=\"padding:10px; font-size:10px; color:#666;\"><p>*** This is a system generated email. Please do not reply to this email. ***</p>  <p>You are receiving this email because you have subscribed to our list. <br>To <a href=\" or to change email preference please visit your profile</p>  <br/>  <p>  Superset</br>  #2724, Level 3, 31st Main, 16th Cross<br>  HSR Layout, Bangalore, 560102  </p>  &copy; 2019 GreekTurtle</td></tr></table></body></html>.'"
            ]
          },
          "metadata": {},
          "execution_count": 50
        }
      ]
    },
    {
      "cell_type": "code",
      "metadata": {
        "id": "q7p4miP2WTWL"
      },
      "source": [
        "from bs4 import BeautifulSoup\n",
        "\n",
        "def get_text_html(text):\n",
        "\n",
        "  try:\n",
        "    soup = BeautifulSoup(text, features=\"html.parser\")\n",
        "\n",
        "    # kill all script and style elements\n",
        "    for script in soup([\"script\", \"style\"]):\n",
        "        script.extract()    # rip it out\n",
        "\n",
        "    # get text\n",
        "    text = soup.get_text()\n",
        "\n",
        "    # break into lines and remove leading and trailing space on each\n",
        "    lines = (line.strip() for line in text.splitlines())\n",
        "    # break multi-headlines into a line each\n",
        "    chunks = (phrase.strip() for line in lines for phrase in line.split(\"  \"))\n",
        "    # drop blank lines\n",
        "    text = ' '.join(chunk for chunk in chunks if chunk)\n",
        "  \n",
        "  except:\n",
        "\n",
        "    text = text\n",
        "\n",
        "  return text"
      ],
      "execution_count": null,
      "outputs": []
    },
    {
      "cell_type": "code",
      "metadata": {
        "id": "hwZQoy3dXO0f"
      },
      "source": [
        "df_email['body'] = df_email['body'].apply(get_text_html)"
      ],
      "execution_count": null,
      "outputs": []
    },
    {
      "cell_type": "code",
      "metadata": {
        "colab": {
          "base_uri": "https://localhost:8080/",
          "height": 69
        },
        "id": "C8D0S_RXBK22",
        "outputId": "878211de-cfa7-4274-f2c3-5e2edf6c52b9"
      },
      "source": [
        "df_email.iloc[533]['body']"
      ],
      "execution_count": null,
      "outputs": [
        {
          "output_type": "execute_result",
          "data": {
            "application/vnd.google.colaboratory.intrinsic+json": {
              "type": "string"
            },
            "text/plain": [
              "'tps-notification Dear Student, Cisco\\'s presentation is scheduled for today. It is compulsory to attend, if you wish to apply: \\xa0 Date – 5th Aug 2021, Thursday Time – 05:00 pm to 06:00 pm (60 Minutes) Link to the session : *** This is a system generated email. Please do not reply to this email. *** You are receiving this email because you have subscribed to our list. To <a href=\" or to change email preference please visit your profile</p> Superset #2724, Level 3, 31st Main, 16th Cross HSR Layout, Bangalore, 560102 © 2019 GreekTurtle.'"
            ]
          },
          "metadata": {},
          "execution_count": 53
        }
      ]
    },
    {
      "cell_type": "code",
      "metadata": {
        "id": "r1zQVuKla4uO"
      },
      "source": [
        "df_email.to_csv('all_emails.csv')"
      ],
      "execution_count": null,
      "outputs": []
    },
    {
      "cell_type": "code",
      "metadata": {
        "id": "w59B8mQn6FQz"
      },
      "source": [
        "from sklearn.feature_extraction.text import CountVectorizer, TfidfVectorizer\n",
        "from sklearn.naive_bayes import GaussianNB, MultinomialNB\n",
        "from sklearn.pipeline import Pipeline\n",
        "from sklearn.metrics import accuracy_score"
      ],
      "execution_count": null,
      "outputs": []
    },
    {
      "cell_type": "code",
      "metadata": {
        "id": "B8yOpZcBT76a"
      },
      "source": [
        "from sklearn.model_selection import train_test_split\n",
        "df_train, df_test = train_test_split(df_email, test_size = 0.2)"
      ],
      "execution_count": null,
      "outputs": []
    },
    {
      "cell_type": "code",
      "metadata": {
        "colab": {
          "base_uri": "https://localhost:8080/",
          "height": 417
        },
        "id": "X6j5D6AbX72S",
        "outputId": "c4f55437-b8a1-4aac-84ae-c81a99beb876"
      },
      "source": [
        "df_train"
      ],
      "execution_count": null,
      "outputs": [
        {
          "output_type": "execute_result",
          "data": {
            "text/html": [
              "<div>\n",
              "<style scoped>\n",
              "    .dataframe tbody tr th:only-of-type {\n",
              "        vertical-align: middle;\n",
              "    }\n",
              "\n",
              "    .dataframe tbody tr th {\n",
              "        vertical-align: top;\n",
              "    }\n",
              "\n",
              "    .dataframe thead th {\n",
              "        text-align: right;\n",
              "    }\n",
              "</style>\n",
              "<table border=\"1\" class=\"dataframe\">\n",
              "  <thead>\n",
              "    <tr style=\"text-align: right;\">\n",
              "      <th></th>\n",
              "      <th>body</th>\n",
              "      <th>Label</th>\n",
              "    </tr>\n",
              "  </thead>\n",
              "  <tbody>\n",
              "    <tr>\n",
              "      <th>593</th>\n",
              "      <td>***** Today's the last day to register for fre...</td>\n",
              "      <td>Intern/Placement</td>\n",
              "    </tr>\n",
              "    <tr>\n",
              "      <th>622</th>\n",
              "      <td>Greetings from CEL, BITS Pilani! We are glad t...</td>\n",
              "      <td>Intern/Placement</td>\n",
              "    </tr>\n",
              "    <tr>\n",
              "      <th>502</th>\n",
              "      <td>tps-notification Dear Product Aspirants,Are yo...</td>\n",
              "      <td>Intern/Placement</td>\n",
              "    </tr>\n",
              "    <tr>\n",
              "      <th>305</th>\n",
              "      <td>Greetings BITSians! FitBITS is back with its w...</td>\n",
              "      <td>Recreation</td>\n",
              "    </tr>\n",
              "    <tr>\n",
              "      <th>349</th>\n",
              "      <td>Dare2Compete Connect with us Registrations End...</td>\n",
              "      <td>Spam</td>\n",
              "    </tr>\n",
              "    <tr>\n",
              "      <th>...</th>\n",
              "      <td>...</td>\n",
              "      <td>...</td>\n",
              "    </tr>\n",
              "    <tr>\n",
              "      <th>429</th>\n",
              "      <td>ARSH's Digest Your Quora Digest ----- Question...</td>\n",
              "      <td>Spam</td>\n",
              "    </tr>\n",
              "    <tr>\n",
              "      <th>69</th>\n",
              "      <td>*BIRLA INSTITUTE OF TECHNOLOGY &amp; SCIENCE, PILA...</td>\n",
              "      <td>Admin</td>\n",
              "    </tr>\n",
              "    <tr>\n",
              "      <th>862</th>\n",
              "      <td>11511001339_BITS F464_AUG_2021 -&gt; Forums -&gt; An...</td>\n",
              "      <td>Academic</td>\n",
              "    </tr>\n",
              "    <tr>\n",
              "      <th>393</th>\n",
              "      <td>*|MC:SUBJECT|* Opportunity to showcase marketi...</td>\n",
              "      <td>Spam</td>\n",
              "    </tr>\n",
              "    <tr>\n",
              "      <th>397</th>\n",
              "      <td>A Hands-on Introduction to Engineering Simulat...</td>\n",
              "      <td>Spam</td>\n",
              "    </tr>\n",
              "  </tbody>\n",
              "</table>\n",
              "<p>804 rows × 2 columns</p>\n",
              "</div>"
            ],
            "text/plain": [
              "                                                  body             Label\n",
              "593  ***** Today's the last day to register for fre...  Intern/Placement\n",
              "622  Greetings from CEL, BITS Pilani! We are glad t...  Intern/Placement\n",
              "502  tps-notification Dear Product Aspirants,Are yo...  Intern/Placement\n",
              "305  Greetings BITSians! FitBITS is back with its w...        Recreation\n",
              "349  Dare2Compete Connect with us Registrations End...              Spam\n",
              "..                                                 ...               ...\n",
              "429  ARSH's Digest Your Quora Digest ----- Question...              Spam\n",
              "69   *BIRLA INSTITUTE OF TECHNOLOGY & SCIENCE, PILA...             Admin\n",
              "862  11511001339_BITS F464_AUG_2021 -> Forums -> An...          Academic\n",
              "393  *|MC:SUBJECT|* Opportunity to showcase marketi...              Spam\n",
              "397  A Hands-on Introduction to Engineering Simulat...              Spam\n",
              "\n",
              "[804 rows x 2 columns]"
            ]
          },
          "metadata": {},
          "execution_count": 57
        }
      ]
    },
    {
      "cell_type": "code",
      "metadata": {
        "id": "XINpNreTFbZw"
      },
      "source": [
        "import numpy as np\n",
        "vectorizer_uni = TfidfVectorizer(min_df = 0.01)\n",
        "uni = vectorizer_uni.fit_transform(df_train['body'].apply(lambda x: np.str_(x)))\n",
        "vocab = vectorizer_uni.vocabulary_\n",
        "vectorizer_uni = TfidfVectorizer(vocabulary=vocab)"
      ],
      "execution_count": null,
      "outputs": []
    },
    {
      "cell_type": "code",
      "metadata": {
        "colab": {
          "base_uri": "https://localhost:8080/"
        },
        "id": "LTFAnKQ2Frm4",
        "outputId": "0ccf8a75-2fe4-4c7b-ce15-1536ca179647"
      },
      "source": [
        "len(vectorizer_uni.get_feature_names())"
      ],
      "execution_count": null,
      "outputs": [
        {
          "output_type": "execute_result",
          "data": {
            "text/plain": [
              "1938"
            ]
          },
          "metadata": {},
          "execution_count": 59
        }
      ]
    },
    {
      "cell_type": "code",
      "metadata": {
        "id": "lAyKl_JSGW-_"
      },
      "source": [
        "vectorizer_bi = TfidfVectorizer(min_df = 0.01, ngram_range= (2, 2))"
      ],
      "execution_count": null,
      "outputs": []
    },
    {
      "cell_type": "code",
      "metadata": {
        "id": "KMpM0Yr8LmYk"
      },
      "source": [
        "bi = vectorizer_bi.fit_transform(df_train['body'].apply(lambda x: np.str_(x)))\n",
        "vocab = vectorizer_bi.vocabulary_\n",
        "vectorizer_bi = TfidfVectorizer(vocabulary=vocab)"
      ],
      "execution_count": null,
      "outputs": []
    },
    {
      "cell_type": "code",
      "metadata": {
        "colab": {
          "base_uri": "https://localhost:8080/"
        },
        "id": "TxGdZ9JQMo3U",
        "outputId": "6fb5c0ab-687b-4e59-a14c-a30d9cbf4e1c"
      },
      "source": [
        "len(vectorizer_bi.get_feature_names())"
      ],
      "execution_count": null,
      "outputs": [
        {
          "output_type": "execute_result",
          "data": {
            "text/plain": [
              "1645"
            ]
          },
          "metadata": {},
          "execution_count": 62
        }
      ]
    },
    {
      "cell_type": "code",
      "metadata": {
        "id": "-ASLkwOuMw6q"
      },
      "source": [
        "vectorizer_tri = TfidfVectorizer(min_df = 0.01, ngram_range=(3,3))"
      ],
      "execution_count": null,
      "outputs": []
    },
    {
      "cell_type": "code",
      "metadata": {
        "id": "vIq-HGSaM-70"
      },
      "source": [
        "tri = vectorizer_tri.fit_transform(df_train['body'].apply(lambda x: np.str_(x)))\n",
        "vocab = vectorizer_tri.vocabulary_\n",
        "vectorizer_tri = TfidfVectorizer(vocabulary=vocab)"
      ],
      "execution_count": null,
      "outputs": []
    },
    {
      "cell_type": "code",
      "metadata": {
        "colab": {
          "base_uri": "https://localhost:8080/"
        },
        "id": "Vf6KUwvjNVqU",
        "outputId": "5ddb5847-b07b-474c-9d24-1bd0e3c652f5"
      },
      "source": [
        "len(vectorizer_tri.get_feature_names())"
      ],
      "execution_count": null,
      "outputs": [
        {
          "output_type": "execute_result",
          "data": {
            "text/plain": [
              "692"
            ]
          },
          "metadata": {},
          "execution_count": 65
        }
      ]
    },
    {
      "cell_type": "code",
      "metadata": {
        "colab": {
          "base_uri": "https://localhost:8080/"
        },
        "id": "4yXBLzvCNedJ",
        "outputId": "ac90c068-be6b-474f-f8ad-04252b07bb79"
      },
      "source": [
        "vectorizer_uni.get_feature_names()"
      ],
      "execution_count": null,
      "outputs": [
        {
          "output_type": "execute_result",
          "data": {
            "text/plain": [
              "['00',\n",
              " '000',\n",
              " '01',\n",
              " '01596',\n",
              " '02',\n",
              " '03',\n",
              " '031',\n",
              " '04',\n",
              " '05',\n",
              " '06',\n",
              " '07',\n",
              " '08',\n",
              " '09',\n",
              " '0982916804701596',\n",
              " '0a',\n",
              " '10',\n",
              " '100',\n",
              " '10th',\n",
              " '11',\n",
              " '11th',\n",
              " '12',\n",
              " '12th',\n",
              " '13',\n",
              " '13th',\n",
              " '14',\n",
              " '14th',\n",
              " '15',\n",
              " '1596',\n",
              " '15th',\n",
              " '16',\n",
              " '1600',\n",
              " '16th',\n",
              " '17',\n",
              " '17th',\n",
              " '18',\n",
              " '18th',\n",
              " '19',\n",
              " '19th',\n",
              " '1st',\n",
              " '20',\n",
              " '2015',\n",
              " '2017',\n",
              " '2018',\n",
              " '2019',\n",
              " '2020',\n",
              " '2021',\n",
              " '2022',\n",
              " '2023',\n",
              " '20th',\n",
              " '21',\n",
              " '21st',\n",
              " '22',\n",
              " '23',\n",
              " '24',\n",
              " '244183',\n",
              " '245073',\n",
              " '25',\n",
              " '25th',\n",
              " '26',\n",
              " '26th',\n",
              " '27',\n",
              " '27th',\n",
              " '28',\n",
              " '29',\n",
              " '29th',\n",
              " '2f',\n",
              " '2nd',\n",
              " '30',\n",
              " '300',\n",
              " '30pm',\n",
              " '30th',\n",
              " '31',\n",
              " '31st',\n",
              " '333',\n",
              " '333031',\n",
              " '35',\n",
              " '3a',\n",
              " '3d',\n",
              " '3d0',\n",
              " '3d1',\n",
              " '3d14',\n",
              " '3d2',\n",
              " '3d4',\n",
              " '3d968932769',\n",
              " '3demail',\n",
              " '3dsf_link',\n",
              " '3dsignaturevirality5',\n",
              " '3rd',\n",
              " '40',\n",
              " '45',\n",
              " '4th',\n",
              " '50',\n",
              " '500',\n",
              " '5238',\n",
              " '59',\n",
              " '59pm',\n",
              " '5th',\n",
              " '60',\n",
              " '6th',\n",
              " '75',\n",
              " '7c',\n",
              " '7th',\n",
              " '80',\n",
              " '82',\n",
              " '84',\n",
              " '88',\n",
              " '8826640597',\n",
              " '8f',\n",
              " '8th',\n",
              " '90',\n",
              " '91',\n",
              " '93',\n",
              " '94',\n",
              " '94043',\n",
              " '96',\n",
              " '97',\n",
              " '99',\n",
              " '99ll',\n",
              " '99re',\n",
              " '99s',\n",
              " '99t',\n",
              " '99ve',\n",
              " '9c',\n",
              " '9d',\n",
              " '9f',\n",
              " '9th',\n",
              " '___________________________________________________________________________',\n",
              " 'a0',\n",
              " 'a4',\n",
              " 'a5',\n",
              " 'a6',\n",
              " 'a7',\n",
              " 'a9',\n",
              " 'ability',\n",
              " 'able',\n",
              " 'about',\n",
              " 'above',\n",
              " 'ac',\n",
              " 'academic',\n",
              " 'academy',\n",
              " 'access',\n",
              " 'according',\n",
              " 'accordingly',\n",
              " 'account',\n",
              " 'accounts',\n",
              " 'achieve',\n",
              " 'ack_click',\n",
              " 'across',\n",
              " 'act',\n",
              " 'action',\n",
              " 'active',\n",
              " 'activities',\n",
              " 'add',\n",
              " 'added',\n",
              " 'addition',\n",
              " 'additional',\n",
              " 'address',\n",
              " 'aditya',\n",
              " 'adjust',\n",
              " 'administration',\n",
              " 'admission',\n",
              " 'admissions',\n",
              " 'adobe',\n",
              " 'advance',\n",
              " 'advanced',\n",
              " 'advised',\n",
              " 'after',\n",
              " 'again',\n",
              " 'agarwal',\n",
              " 'age',\n",
              " 'agsr',\n",
              " 'agsrd',\n",
              " 'ahead',\n",
              " 'ai',\n",
              " 'aim',\n",
              " 'aims',\n",
              " 'air',\n",
              " 'all',\n",
              " 'allow',\n",
              " 'allowed',\n",
              " 'allows',\n",
              " 'almost',\n",
              " 'along',\n",
              " 'already',\n",
              " 'also',\n",
              " 'alumni',\n",
              " 'alumnus',\n",
              " 'always',\n",
              " 'am',\n",
              " 'amazing',\n",
              " 'amazon',\n",
              " 'among',\n",
              " 'amount',\n",
              " 'amphitheatre',\n",
              " 'an',\n",
              " 'analysis',\n",
              " 'analyst',\n",
              " 'analytics',\n",
              " 'and',\n",
              " 'android',\n",
              " 'announce',\n",
              " 'announced',\n",
              " 'announcement',\n",
              " 'announcements',\n",
              " 'annual',\n",
              " 'another',\n",
              " 'answer',\n",
              " 'answered',\n",
              " 'answers',\n",
              " 'any',\n",
              " 'anyone',\n",
              " 'anything',\n",
              " 'aoid',\n",
              " 'aoty',\n",
              " 'apart',\n",
              " 'apogee',\n",
              " 'app',\n",
              " 'appari',\n",
              " 'applicants',\n",
              " 'application',\n",
              " 'applications',\n",
              " 'applied',\n",
              " 'apply',\n",
              " 'applying',\n",
              " 'appreciate',\n",
              " 'approach',\n",
              " 'approved',\n",
              " 'apps',\n",
              " 'april',\n",
              " 'architecture',\n",
              " 'are',\n",
              " 'area',\n",
              " 'areas',\n",
              " 'around',\n",
              " 'arsh',\n",
              " 'art',\n",
              " 'artificial',\n",
              " 'as',\n",
              " 'asia',\n",
              " 'ask',\n",
              " 'asked',\n",
              " 'aspects',\n",
              " 'assignment',\n",
              " 'assistance',\n",
              " 'assistant',\n",
              " 'associate',\n",
              " 'association',\n",
              " 'at',\n",
              " 'attached',\n",
              " 'attachment',\n",
              " 'attempt',\n",
              " 'attend',\n",
              " 'attended',\n",
              " 'aty',\n",
              " 'aug',\n",
              " 'augs',\n",
              " 'augsd',\n",
              " 'august',\n",
              " 'auto',\n",
              " 'avail',\n",
              " 'availability',\n",
              " 'available',\n",
              " 'average',\n",
              " 'award',\n",
              " 'awarded',\n",
              " 'awards',\n",
              " 'aware',\n",
              " 'awareness',\n",
              " 'aws',\n",
              " 'b7',\n",
              " 'back',\n",
              " 'backed',\n",
              " 'backend',\n",
              " 'background',\n",
              " 'bangalore',\n",
              " 'bank',\n",
              " 'barai',\n",
              " 'based',\n",
              " 'basic',\n",
              " 'basis',\n",
              " 'batch',\n",
              " 'batches',\n",
              " 'bb',\n",
              " 'be',\n",
              " 'beautiful',\n",
              " 'because',\n",
              " 'become',\n",
              " 'been',\n",
              " 'before',\n",
              " 'being',\n",
              " 'believe',\n",
              " 'below',\n",
              " 'benefit',\n",
              " 'benefits',\n",
              " 'best',\n",
              " 'better',\n",
              " 'between',\n",
              " 'beyond',\n",
              " 'bhargava',\n",
              " 'big',\n",
              " 'bio',\n",
              " 'biology',\n",
              " 'birla',\n",
              " 'bit',\n",
              " 'bits',\n",
              " 'bitsian',\n",
              " 'bitsians',\n",
              " 'block',\n",
              " 'blog',\n",
              " 'board',\n",
              " 'body',\n",
              " 'book',\n",
              " 'books',\n",
              " 'border',\n",
              " 'both',\n",
              " 'branch',\n",
              " 'branches',\n",
              " 'brand',\n",
              " 'brands',\n",
              " 'break',\n",
              " 'brief',\n",
              " 'bring',\n",
              " 'brings',\n",
              " 'brochure',\n",
              " 'browser',\n",
              " 'build',\n",
              " 'building',\n",
              " 'built',\n",
              " 'business',\n",
              " 'businesses',\n",
              " 'but',\n",
              " 'by',\n",
              " 'c2',\n",
              " 'c3',\n",
              " 'ca',\n",
              " 'call',\n",
              " 'called',\n",
              " 'cambridge',\n",
              " 'came',\n",
              " 'campus',\n",
              " 'campuses',\n",
              " 'campusmobile',\n",
              " 'can',\n",
              " 'canada',\n",
              " 'candidate',\n",
              " 'candidates',\n",
              " 'cannot',\n",
              " 'capital',\n",
              " 'care',\n",
              " 'career',\n",
              " 'careers',\n",
              " 'carefully',\n",
              " 'carry',\n",
              " 'case',\n",
              " 'cases',\n",
              " 'cash',\n",
              " 'catch',\n",
              " 'cause',\n",
              " 'caused',\n",
              " 'ce',\n",
              " 'cel',\n",
              " 'cell',\n",
              " 'center',\n",
              " 'centre',\n",
              " 'ceo',\n",
              " 'certificate',\n",
              " 'certification',\n",
              " 'chain',\n",
              " 'chairman',\n",
              " 'challenge',\n",
              " 'challenges',\n",
              " 'chance',\n",
              " 'change',\n",
              " 'changes',\n",
              " 'changing',\n",
              " 'channel',\n",
              " 'chapter',\n",
              " 'charge',\n",
              " 'chattopadhyay',\n",
              " 'che',\n",
              " 'check',\n",
              " 'cheers',\n",
              " 'chemical',\n",
              " 'chemistry',\n",
              " 'chief',\n",
              " 'children',\n",
              " 'choice',\n",
              " 'choose',\n",
              " 'ci',\n",
              " 'ciie',\n",
              " 'civil',\n",
              " 'clarifications',\n",
              " 'class',\n",
              " 'classes',\n",
              " 'classroom',\n",
              " 'clear',\n",
              " 'click',\n",
              " 'click_pos',\n",
              " 'client',\n",
              " 'clients',\n",
              " 'close',\n",
              " 'closed',\n",
              " 'closely',\n",
              " 'cloud',\n",
              " 'club',\n",
              " 'co',\n",
              " 'code',\n",
              " 'coding',\n",
              " 'collaboration',\n",
              " 'collaborations',\n",
              " 'colleagues',\n",
              " 'college',\n",
              " 'colleges',\n",
              " 'color',\n",
              " 'com',\n",
              " 'come',\n",
              " 'comes',\n",
              " 'coming',\n",
              " 'commerce',\n",
              " 'commission',\n",
              " 'commitment',\n",
              " 'committed',\n",
              " 'committee',\n",
              " 'common',\n",
              " 'communicated',\n",
              " 'communication',\n",
              " 'communities',\n",
              " 'community',\n",
              " 'companies',\n",
              " 'company',\n",
              " 'compete',\n",
              " 'competition',\n",
              " 'competitive',\n",
              " 'complete',\n",
              " 'completed',\n",
              " 'completely',\n",
              " 'completion',\n",
              " 'complex',\n",
              " 'component',\n",
              " 'comprehensive',\n",
              " 'computer',\n",
              " 'computing',\n",
              " 'concept',\n",
              " 'concepts',\n",
              " 'concerned',\n",
              " 'conditions',\n",
              " 'conduct',\n",
              " 'conducted',\n",
              " 'conducting',\n",
              " 'conference',\n",
              " 'confirm',\n",
              " 'connect',\n",
              " 'consideration',\n",
              " 'considered',\n",
              " 'considering',\n",
              " 'consulting',\n",
              " 'contact',\n",
              " 'containing',\n",
              " 'content',\n",
              " 'continue',\n",
              " 'contribute',\n",
              " 'control',\n",
              " 'conversation',\n",
              " 'cool',\n",
              " 'cooperation',\n",
              " 'coordinator',\n",
              " 'copies',\n",
              " 'copy',\n",
              " 'copyright',\n",
              " 'cordially',\n",
              " 'core',\n",
              " 'corporate',\n",
              " 'cost',\n",
              " 'could',\n",
              " 'council',\n",
              " 'counseling',\n",
              " 'counselling',\n",
              " 'countries',\n",
              " 'country',\n",
              " 'couple',\n",
              " 'course',\n",
              " 'courses',\n",
              " 'cover',\n",
              " 'covid',\n",
              " 'create',\n",
              " 'created',\n",
              " 'creating',\n",
              " 'creation',\n",
              " 'creative',\n",
              " 'creativity',\n",
              " 'creator',\n",
              " 'cricket',\n",
              " 'criteria',\n",
              " 'cross',\n",
              " 'crucial',\n",
              " 'cs',\n",
              " 'css',\n",
              " 'ct',\n",
              " 'culture',\n",
              " 'cum',\n",
              " 'curated',\n",
              " 'curiosity',\n",
              " 'current',\n",
              " 'currently',\n",
              " 'customer',\n",
              " 'customers',\n",
              " 'cut',\n",
              " 'cutting',\n",
              " 'cv',\n",
              " 'cycle',\n",
              " 'd2c',\n",
              " 'daily',\n",
              " 'dalip',\n",
              " 'dare2compete',\n",
              " 'data',\n",
              " 'date',\n",
              " 'dated',\n",
              " 'dates',\n",
              " 'day',\n",
              " 'days',\n",
              " 'de',\n",
              " 'deadline',\n",
              " 'dean',\n",
              " 'deans',\n",
              " 'dear',\n",
              " 'dec',\n",
              " 'december',\n",
              " 'decided',\n",
              " 'decision',\n",
              " 'decisions',\n",
              " 'dedicated',\n",
              " 'deep',\n",
              " 'degree',\n",
              " 'delhi',\n",
              " 'deliver',\n",
              " 'delivered',\n",
              " 'delivering',\n",
              " 'delivery',\n",
              " 'demand',\n",
              " 'department',\n",
              " 'deploy',\n",
              " 'description',\n",
              " 'design',\n",
              " 'designed',\n",
              " 'designers',\n",
              " 'designing',\n",
              " 'detail',\n",
              " 'detailed',\n",
              " 'details',\n",
              " 'develop',\n",
              " 'developer',\n",
              " 'developers',\n",
              " 'developing',\n",
              " 'development',\n",
              " 'devices',\n",
              " 'did',\n",
              " 'didn',\n",
              " 'difference',\n",
              " 'different',\n",
              " 'difficult',\n",
              " 'digest',\n",
              " 'digital',\n",
              " 'direct',\n",
              " 'directly',\n",
              " 'director',\n",
              " 'discipline',\n",
              " 'disciplines',\n",
              " 'discover',\n",
              " 'discrepancy',\n",
              " 'discuss',\n",
              " 'discussed',\n",
              " 'discussion',\n",
              " 'discussions',\n",
              " 'display',\n",
              " 'distribution',\n",
              " 'diverse',\n",
              " 'division',\n",
              " 'do',\n",
              " 'document',\n",
              " 'documents',\n",
              " 'does',\n",
              " 'doing',\n",
              " 'domain',\n",
              " 'domains',\n",
              " 'don',\n",
              " 'done',\n",
              " 'doubts',\n",
              " 'down',\n",
              " 'download',\n",
              " 'dr',\n",
              " 'dream',\n",
              " 'drive',\n",
              " 'driven',\n",
              " 'drop',\n",
              " 'dual',\n",
              " 'due',\n",
              " 'duration',\n",
              " 'during',\n",
              " 'dynamic',\n",
              " 'e0',\n",
              " 'e1',\n",
              " 'e2',\n",
              " 'each',\n",
              " 'earlier',\n",
              " 'early',\n",
              " 'earn',\n",
              " 'easy',\n",
              " 'economics',\n",
              " 'ecosystem',\n",
              " 'ed',\n",
              " 'edge',\n",
              " 'edit',\n",
              " 'edition',\n",
              " 'editor',\n",
              " 'editors',\n",
              " 'education',\n",
              " 'educational',\n",
              " 'ef',\n",
              " 'effective',\n",
              " 'efficient',\n",
              " 'efforts',\n",
              " 'either',\n",
              " 'el',\n",
              " 'election',\n",
              " 'elections',\n",
              " 'electric',\n",
              " 'electrical',\n",
              " 'electronics',\n",
              " 'eligibility',\n",
              " 'eligible',\n",
              " 'else',\n",
              " 'email',\n",
              " 'email_track_id',\n",
              " 'emails',\n",
              " 'en',\n",
              " 'enable',\n",
              " 'enables',\n",
              " 'encourage',\n",
              " 'encouraged',\n",
              " 'end',\n",
              " 'energy',\n",
              " 'engage',\n",
              " 'engagement',\n",
              " 'engineer',\n",
              " 'engineering',\n",
              " 'engineers',\n",
              " 'english',\n",
              " 'enhance',\n",
              " 'enough',\n",
              " 'enrolled',\n",
              " 'ensure',\n",
              " 'enter',\n",
              " 'enterprise',\n",
              " 'entertained',\n",
              " 'enthusiastic',\n",
              " 'enthusiasts',\n",
              " 'entrepreneurial',\n",
              " 'entrepreneurship',\n",
              " 'entry',\n",
              " 'environment',\n",
              " 'episode',\n",
              " 'equipment',\n",
              " 'equity',\n",
              " 'er',\n",
              " 'erp',\n",
              " 'error',\n",
              " 'es',\n",
              " 'especially',\n",
              " 'essential',\n",
              " 'establish',\n",
              " 'established',\n",
              " 'et',\n",
              " 'etc',\n",
              " 'evaluation',\n",
              " 'even',\n",
              " 'evening',\n",
              " 'event',\n",
              " 'events',\n",
              " 'ever',\n",
              " 'every',\n",
              " 'everyone',\n",
              " 'everything',\n",
              " 'ex',\n",
              " 'exactly',\n",
              " 'exam',\n",
              " 'examination',\n",
              " 'examinations',\n",
              " 'excellence',\n",
              " 'excellent',\n",
              " 'except',\n",
              " 'exchange',\n",
              " 'excited',\n",
              " 'exciting',\n",
              " 'exclusive',\n",
              " 'executive',\n",
              " 'existing',\n",
              " 'expect',\n",
              " 'experience',\n",
              " 'experienced',\n",
              " 'experiences',\n",
              " 'expert',\n",
              " 'experts',\n",
              " 'explore',\n",
              " 'exposure',\n",
              " 'extend',\n",
              " 'extended',\n",
              " 'extensive',\n",
              " 'extremely',\n",
              " 'f0',\n",
              " 'f110',\n",
              " 'f111',\n",
              " 'f20190444',\n",
              " 'face',\n",
              " 'facebook',\n",
              " 'faculty',\n",
              " 'family',\n",
              " 'far',\n",
              " 'fast',\n",
              " 'fax',\n",
              " 'fd',\n",
              " 'features',\n",
              " 'february',\n",
              " 'fee',\n",
              " 'feedback',\n",
              " 'feel',\n",
              " 'fellow',\n",
              " 'fellowship',\n",
              " 'felt',\n",
              " 'female',\n",
              " 'few',\n",
              " 'fie',\n",
              " 'field',\n",
              " 'fields',\n",
              " 'file',\n",
              " 'fill',\n",
              " 'filling',\n",
              " 'final',\n",
              " 'finally',\n",
              " 'finance',\n",
              " 'financial',\n",
              " 'find',\n",
              " 'finding',\n",
              " 'finds',\n",
              " 'firm',\n",
              " 'first',\n",
              " 'fit',\n",
              " 'five',\n",
              " 'flagship',\n",
              " 'flexible',\n",
              " 'flipkart',\n",
              " 'floor',\n",
              " 'focus',\n",
              " 'focused',\n",
              " 'folks',\n",
              " 'follow',\n",
              " 'followed',\n",
              " 'following',\n",
              " 'follows',\n",
              " 'food',\n",
              " 'for',\n",
              " 'forget',\n",
              " 'form',\n",
              " 'former',\n",
              " 'forms',\n",
              " 'forum',\n",
              " 'forums',\n",
              " 'forward',\n",
              " 'forwarded',\n",
              " 'found',\n",
              " 'foundation',\n",
              " 'foundations',\n",
              " 'founded',\n",
              " 'founder',\n",
              " 'founders',\n",
              " 'founding',\n",
              " 'four',\n",
              " 'francisco',\n",
              " 'free',\n",
              " 'friday',\n",
              " 'friend',\n",
              " 'friends',\n",
              " 'from',\n",
              " 'front',\n",
              " 'full',\n",
              " 'fully',\n",
              " 'fun',\n",
              " 'function',\n",
              " 'functional',\n",
              " 'funded',\n",
              " 'funding',\n",
              " 'further',\n",
              " 'future',\n",
              " 'gain',\n",
              " 'game',\n",
              " 'garg',\n",
              " 'general',\n",
              " 'generated',\n",
              " 'generation',\n",
              " 'get',\n",
              " 'getting',\n",
              " 'gif',\n",
              " 'girl',\n",
              " 'give',\n",
              " 'given',\n",
              " 'gives',\n",
              " 'giving',\n",
              " 'glad',\n",
              " 'global',\n",
              " 'globalink',\n",
              " 'globe',\n",
              " 'gmail',\n",
              " 'go',\n",
              " 'goa',\n",
              " 'goal',\n",
              " 'goes',\n",
              " 'going',\n",
              " 'good',\n",
              " 'google',\n",
              " 'got',\n",
              " 'governing',\n",
              " 'government',\n",
              " 'goyal',\n",
              " 'grade',\n",
              " 'graduate',\n",
              " 'graduated',\n",
              " 'graduates',\n",
              " 'graduating',\n",
              " 'graduation',\n",
              " 'graphic',\n",
              " 'great',\n",
              " 'greater',\n",
              " 'greetings',\n",
              " 'ground',\n",
              " 'group',\n",
              " 'groups',\n",
              " 'grow',\n",
              " 'growing',\n",
              " 'growth',\n",
              " 'guidance',\n",
              " 'guide',\n",
              " 'guidelines',\n",
              " 'gupta',\n",
              " 'hackathon',\n",
              " 'had',\n",
              " 'hand',\n",
              " 'handles',\n",
              " 'handling',\n",
              " 'hands',\n",
              " 'happened',\n",
              " 'happens',\n",
              " 'happy',\n",
              " 'hard',\n",
              " 'harvard',\n",
              " 'has',\n",
              " 'have',\n",
              " 'having',\n",
              " 'hd',\n",
              " 'he',\n",
              " 'head',\n",
              " 'health',\n",
              " 'healthy',\n",
              " 'hear',\n",
              " 'held',\n",
              " 'hello',\n",
              " 'help',\n",
              " 'helped',\n",
              " 'helping',\n",
              " 'helps',\n",
              " 'hence',\n",
              " 'her',\n",
              " 'here',\n",
              " 'hereby',\n",
              " 'herewith',\n",
              " 'hey',\n",
              " 'hi',\n",
              " 'high',\n",
              " 'higher',\n",
              " 'highly',\n",
              " 'him',\n",
              " 'hire',\n",
              " 'hiring',\n",
              " 'his',\n",
              " 'history',\n",
              " 'hit',\n",
              " 'hod',\n",
              " 'home',\n",
              " 'hope',\n",
              " 'host',\n",
              " 'hostel',\n",
              " 'hosting',\n",
              " 'hour',\n",
              " 'hours',\n",
              " 'house',\n",
              " 'how',\n",
              " 'however',\n",
              " 'html',\n",
              " 'huge',\n",
              " 'human',\n",
              " 'humanities',\n",
              " 'husband',\n",
              " 'hyderabad',\n",
              " 'ic',\n",
              " 'id',\n",
              " 'idea',\n",
              " 'ideas',\n",
              " 'ideation',\n",
              " 'if',\n",
              " 'ignore',\n",
              " 'ii',\n",
              " 'iit',\n",
              " 'image',\n",
              " 'images',\n",
              " 'img',\n",
              " 'immediately',\n",
              " 'impact',\n",
              " 'implementation',\n",
              " 'important',\n",
              " 'improve',\n",
              " 'in',\n",
              " 'inbox',\n",
              " 'inc',\n",
              " 'include',\n",
              " 'included',\n",
              " 'includes',\n",
              " 'including',\n",
              " 'inconvenience',\n",
              " 'increase',\n",
              " 'incredible',\n",
              " 'india',\n",
              " 'indian',\n",
              " 'individual',\n",
              " 'individuals',\n",
              " 'industries',\n",
              " 'industry',\n",
              " 'info',\n",
              " 'inform',\n",
              " 'information',\n",
              " 'informed',\n",
              " 'ing',\n",
              " 'initiative',\n",
              " 'initiatives',\n",
              " 'innovation',\n",
              " 'innovations',\n",
              " 'innovative',\n",
              " 'inr',\n",
              " 'inside',\n",
              " 'insight',\n",
              " 'insights',\n",
              " 'inspire',\n",
              " 'inspired',\n",
              " 'instagram',\n",
              " 'institute',\n",
              " 'institutes',\n",
              " 'institution',\n",
              " 'institutions',\n",
              " 'instructions',\n",
              " 'instructor',\n",
              " 'integrated',\n",
              " 'intelligence',\n",
              " 'intended',\n",
              " 'interact',\n",
              " 'interactions',\n",
              " 'interactive',\n",
              " 'interest',\n",
              " 'interested',\n",
              " 'interesting',\n",
              " 'interests',\n",
              " 'intern',\n",
              " 'international',\n",
              " 'internet',\n",
              " 'interns',\n",
              " 'internship',\n",
              " 'internships',\n",
              " 'interview',\n",
              " 'interviews',\n",
              " 'into',\n",
              " 'introduce',\n",
              " 'introduction',\n",
              " 'investment',\n",
              " 'invite',\n",
              " 'invited',\n",
              " 'inviting',\n",
              " 'io',\n",
              " 'ipcd',\n",
              " 'is',\n",
              " 'issue',\n",
              " 'issues',\n",
              " 'ist',\n",
              " 'it',\n",
              " 'items',\n",
              " 'its',\n",
              " 'itself',\n",
              " 'jain',\n",
              " 'january',\n",
              " 'jindal',\n",
              " 'job',\n",
              " 'jobs',\n",
              " 'join',\n",
              " 'joining',\n",
              " 'joint',\n",
              " ...]"
            ]
          },
          "metadata": {},
          "execution_count": 66
        }
      ]
    },
    {
      "cell_type": "code",
      "metadata": {
        "colab": {
          "base_uri": "https://localhost:8080/"
        },
        "id": "wDBojBezOXV8",
        "outputId": "e488577b-6307-42b2-c0ae-a0daaec4d2a7"
      },
      "source": [
        "vectorizer_bi.get_feature_names()"
      ],
      "execution_count": null,
      "outputs": [
        {
          "output_type": "execute_result",
          "data": {
            "text/plain": [
              "['00 am',\n",
              " '00 pm',\n",
              " '031 india',\n",
              " '0982916804701596 245073',\n",
              " '0a 0a',\n",
              " '10 2021',\n",
              " '10 am',\n",
              " '11 00',\n",
              " '11 2021',\n",
              " '11 30',\n",
              " '11 59',\n",
              " '11 59pm',\n",
              " '11 am',\n",
              " '12 pm',\n",
              " '15 pm',\n",
              " '1596 244183',\n",
              " '1600 amphitheatre',\n",
              " '20 2021',\n",
              " '20 dr',\n",
              " '20 read',\n",
              " '20 satyendra',\n",
              " '2019 batch',\n",
              " '2020 21',\n",
              " '2020 batch',\n",
              " '2021 11',\n",
              " '2021 22',\n",
              " '2021 and',\n",
              " '2021 at',\n",
              " '2021 aug',\n",
              " '2021 for',\n",
              " '2021 please',\n",
              " '2021 saturday',\n",
              " '2021 the',\n",
              " '2021 time',\n",
              " '2021 to',\n",
              " '22 new',\n",
              " '245073 5238',\n",
              " '30 am',\n",
              " '30 pm',\n",
              " '333 031',\n",
              " '333031 india',\n",
              " '333031 rajasthan',\n",
              " '3a 2f',\n",
              " '3d 3d',\n",
              " '3d0 ct',\n",
              " '3d0 to',\n",
              " '3d1 st',\n",
              " '3d14 aty',\n",
              " '3d2 id',\n",
              " '3d2 uid',\n",
              " '3d4 click_pos',\n",
              " '59 pm',\n",
              " '80 93',\n",
              " '80 94',\n",
              " '80 99',\n",
              " '80 99ll',\n",
              " '80 99re',\n",
              " '80 99s',\n",
              " '80 99t',\n",
              " '80 99ve',\n",
              " '80 9d',\n",
              " '80 a6',\n",
              " '84 birla',\n",
              " '84 e2',\n",
              " '8826640597 e2',\n",
              " '90 a7',\n",
              " '91 1596',\n",
              " '91 8826640597',\n",
              " '94043 usa',\n",
              " '96 84',\n",
              " '9f 91',\n",
              " 'a0 c2',\n",
              " 'a9 2020',\n",
              " 'a9 2021',\n",
              " 'ability to',\n",
              " 'able to',\n",
              " 'about the',\n",
              " 'about us',\n",
              " 'ac in',\n",
              " 'academic year',\n",
              " 'access the',\n",
              " 'access to',\n",
              " 'according to',\n",
              " 'ack_click aoid',\n",
              " 'across the',\n",
              " 'advised to',\n",
              " 'after the',\n",
              " 'aim to',\n",
              " 'aims at',\n",
              " 'aims to',\n",
              " 'all are',\n",
              " 'all in',\n",
              " 'all of',\n",
              " 'all other',\n",
              " 'all please',\n",
              " 'all rights',\n",
              " 'all students',\n",
              " 'all the',\n",
              " 'all this',\n",
              " 'all to',\n",
              " 'all we',\n",
              " 'all you',\n",
              " 'all your',\n",
              " 'allowed to',\n",
              " 'along with',\n",
              " 'also be',\n",
              " 'alumni relations',\n",
              " 'am dear',\n",
              " 'am to',\n",
              " 'among the',\n",
              " 'amphitheatre parkway',\n",
              " 'an all',\n",
              " 'an amazing',\n",
              " 'an annual',\n",
              " 'an early',\n",
              " 'an email',\n",
              " 'an exclusive',\n",
              " 'an initiative',\n",
              " 'an interactive',\n",
              " 'an internship',\n",
              " 'an online',\n",
              " 'an opportunity',\n",
              " 'analysis and',\n",
              " 'and also',\n",
              " 'and are',\n",
              " 'and be',\n",
              " 'and beyond',\n",
              " 'and collaborations',\n",
              " 'and data',\n",
              " 'and date',\n",
              " 'and experience',\n",
              " 'and experiences',\n",
              " 'and faculty',\n",
              " 'and finance',\n",
              " 'and follow',\n",
              " 'and get',\n",
              " 'and grow',\n",
              " 'and has',\n",
              " 'and have',\n",
              " 'and help',\n",
              " 'and how',\n",
              " 'and if',\n",
              " 'and in',\n",
              " 'and is',\n",
              " 'and it',\n",
              " 'and its',\n",
              " 'and learn',\n",
              " 'and learning',\n",
              " 'and make',\n",
              " 'and many',\n",
              " 'and more',\n",
              " 'and much',\n",
              " 'and not',\n",
              " 'and on',\n",
              " 'and or',\n",
              " 'and other',\n",
              " 'and our',\n",
              " 'and regards',\n",
              " 'and research',\n",
              " 'and science',\n",
              " 'and social',\n",
              " 'and students',\n",
              " 'and technology',\n",
              " 'and the',\n",
              " 'and their',\n",
              " 'and then',\n",
              " 'and time',\n",
              " 'and to',\n",
              " 'and we',\n",
              " 'and what',\n",
              " 'and will',\n",
              " 'and you',\n",
              " 'and your',\n",
              " 'announce that',\n",
              " 'announce the',\n",
              " 'announcement dear',\n",
              " 'announcement in',\n",
              " 'annual summer',\n",
              " 'another internship',\n",
              " 'answer from',\n",
              " 'any further',\n",
              " 'any of',\n",
              " 'any other',\n",
              " 'any queries',\n",
              " 'any query',\n",
              " 'any questions',\n",
              " 'any time',\n",
              " 'aoid aoty',\n",
              " 'aoty 3d14',\n",
              " 'application form',\n",
              " 'application is',\n",
              " 'application process',\n",
              " 'applications for',\n",
              " 'apply for',\n",
              " 'apply here',\n",
              " 'apply now',\n",
              " 'applying for',\n",
              " 'april 2021',\n",
              " 'are advised',\n",
              " 'are also',\n",
              " 'are as',\n",
              " 'are backed',\n",
              " 'are being',\n",
              " 'are currently',\n",
              " 'are doing',\n",
              " 'are eligible',\n",
              " 'are glad',\n",
              " 'are happy',\n",
              " 'are here',\n",
              " 'are hereby',\n",
              " 'are in',\n",
              " 'are interested',\n",
              " 'are invited',\n",
              " 'are looking',\n",
              " 'are no',\n",
              " 'are not',\n",
              " 'are now',\n",
              " 'are on',\n",
              " 'are pleased',\n",
              " 'are receiving',\n",
              " 'are requested',\n",
              " 'are required',\n",
              " 'are the',\n",
              " 'are welcome',\n",
              " 'are you',\n",
              " 'around the',\n",
              " 'arsh digest',\n",
              " 'arsh pradipta',\n",
              " 'artificial intelligence',\n",
              " 'as an',\n",
              " 'as follows',\n",
              " 'as mentioned',\n",
              " 'as one',\n",
              " 'as part',\n",
              " 'as per',\n",
              " 'as possible',\n",
              " 'as the',\n",
              " 'as we',\n",
              " 'as well',\n",
              " 'as you',\n",
              " 'aspects of',\n",
              " 'assistant professor',\n",
              " 'associate dean',\n",
              " 'associate deans',\n",
              " 'associate professor',\n",
              " 'association with',\n",
              " 'at 11',\n",
              " 'at 30',\n",
              " 'at 91',\n",
              " 'at any',\n",
              " 'at bits',\n",
              " 'at least',\n",
              " 'at pm',\n",
              " 'at the',\n",
              " 'attached below',\n",
              " 'attached herewith',\n",
              " 'attached the',\n",
              " 'attached to',\n",
              " 'attend the',\n",
              " 'aty 3d4',\n",
              " 'aug 2021',\n",
              " 'aug dec',\n",
              " 'augs agsr',\n",
              " 'augsd agsrd',\n",
              " 'august 2019',\n",
              " 'august 2021',\n",
              " 'available for',\n",
              " 'available in',\n",
              " 'available on',\n",
              " 'award winning',\n",
              " 'back to',\n",
              " 'back with',\n",
              " 'backed by',\n",
              " 'barai director',\n",
              " 'based on',\n",
              " 'batch of',\n",
              " 'be able',\n",
              " 'be an',\n",
              " 'be available',\n",
              " 'be communicated',\n",
              " 'be conducted',\n",
              " 'be considered',\n",
              " 'be entertained',\n",
              " 'be followed',\n",
              " 'be found',\n",
              " 'be given',\n",
              " 'be held',\n",
              " 'be in',\n",
              " 'be on',\n",
              " 'be open',\n",
              " 'be part',\n",
              " 'be provided',\n",
              " 'be shared',\n",
              " 'be sharing',\n",
              " 'be submitted',\n",
              " 'be the',\n",
              " 'because of',\n",
              " 'because you',\n",
              " 'before the',\n",
              " 'believe that',\n",
              " 'below for',\n",
              " 'below to',\n",
              " 'best regards',\n",
              " 'best wishes',\n",
              " 'birla institute',\n",
              " 'bits pilani',\n",
              " 'bitsians to',\n",
              " 'both the',\n",
              " 'brief description',\n",
              " 'bring to',\n",
              " 'brings to',\n",
              " 'brings you',\n",
              " 'but also',\n",
              " 'but the',\n",
              " 'by 11',\n",
              " 'by cel',\n",
              " 'by filling',\n",
              " 'by mailtrack',\n",
              " 'by our',\n",
              " 'by pradipta',\n",
              " 'by suresh',\n",
              " 'by the',\n",
              " 'c2 a0',\n",
              " 'c2 a9',\n",
              " 'c2 b7',\n",
              " 'ca 94043',\n",
              " 'campus and',\n",
              " 'campus in',\n",
              " 'campus is',\n",
              " 'campus rajasthan',\n",
              " 'campus the',\n",
              " 'campus vidya',\n",
              " 'campusmobile 0982916804701596',\n",
              " 'can also',\n",
              " 'can apply',\n",
              " 'can be',\n",
              " 'can check',\n",
              " 'can do',\n",
              " 'can find',\n",
              " 'can get',\n",
              " 'can help',\n",
              " 'can join',\n",
              " 'can register',\n",
              " 'can unsubscribe',\n",
              " 'care of',\n",
              " 'career in',\n",
              " 'careers with',\n",
              " 'case of',\n",
              " 'case you',\n",
              " 'cel bits',\n",
              " 'cel lab',\n",
              " 'cel summer',\n",
              " 'cel to',\n",
              " 'center for',\n",
              " 'centre for',\n",
              " 'chain management',\n",
              " 'challenges scholarships',\n",
              " 'chance to',\n",
              " 'change how',\n",
              " 'change the',\n",
              " 'change your',\n",
              " 'charge ciie',\n",
              " 'chattopadhyay google',\n",
              " 'chattopadhyay posted',\n",
              " 'check out',\n",
              " 'chemical engineering',\n",
              " 'chemistry associate',\n",
              " 'ciie bits',\n",
              " 'ciie joint',\n",
              " 'civil engineering',\n",
              " 'classroom you',\n",
              " 'click here',\n",
              " 'click on',\n",
              " 'click the',\n",
              " 'click_pos 3d0',\n",
              " 'closely with',\n",
              " 'club bits',\n",
              " 'club is',\n",
              " 'co founder',\n",
              " 'collaboration with',\n",
              " 'collaborations bits',\n",
              " 'college students',\n",
              " 'come up',\n",
              " 'companies like',\n",
              " 'complete the',\n",
              " 'computer science',\n",
              " 'computer vision',\n",
              " 'conducted by',\n",
              " 'conducted on',\n",
              " 'connect with',\n",
              " 'contact 01596',\n",
              " 'contact the',\n",
              " 'contact us',\n",
              " 'contribute to',\n",
              " 'control which',\n",
              " 'copy of',\n",
              " 'course and',\n",
              " 'course is',\n",
              " 'courses and',\n",
              " 'covid 19',\n",
              " 'cutting edge',\n",
              " 'dalip kumarprofessor',\n",
              " 'data science',\n",
              " 'date and',\n",
              " 'date for',\n",
              " 'date of',\n",
              " 'day and',\n",
              " 'day to',\n",
              " 'deadline for',\n",
              " 'deadline to',\n",
              " 'dean international',\n",
              " 'dean swd',\n",
              " 'dear all',\n",
              " 'dear student',\n",
              " 'dear students',\n",
              " 'dec new',\n",
              " 'decided to',\n",
              " 'deep learning',\n",
              " 'degree in',\n",
              " 'degree students',\n",
              " 'department of',\n",
              " 'description for',\n",
              " 'design and',\n",
              " 'designed to',\n",
              " 'details about',\n",
              " 'details of',\n",
              " 'details please',\n",
              " 'develop their',\n",
              " 'development and',\n",
              " 'development of',\n",
              " 'did not',\n",
              " 'digest preferences',\n",
              " 'digest question',\n",
              " 'digest your',\n",
              " 'director bits',\n",
              " 'do not',\n",
              " 'do the',\n",
              " 'do you',\n",
              " 'does not',\n",
              " 'doing well',\n",
              " 'don e2',\n",
              " 'don miss',\n",
              " 'don want',\n",
              " 'doubts please',\n",
              " 'download our',\n",
              " 'dr dalip',\n",
              " 'dr ranjan',\n",
              " 'dual degree',\n",
              " 'due to',\n",
              " 'duration months',\n",
              " 'during the',\n",
              " 'dynamic startup',\n",
              " 'e1 90',\n",
              " 'e2 80',\n",
              " 'e2 96',\n",
              " 'early stage',\n",
              " 'easy to',\n",
              " 'economics and',\n",
              " 'ecosystem through',\n",
              " 'edition of',\n",
              " 'education and',\n",
              " 'election commission',\n",
              " 'electronics and',\n",
              " 'eligible to',\n",
              " 'email because',\n",
              " 'email from',\n",
              " 'email personal',\n",
              " 'email please',\n",
              " 'email preferences',\n",
              " 'email the',\n",
              " 'email to',\n",
              " 'email visit',\n",
              " 'email was',\n",
              " 'emails from',\n",
              " 'emails we',\n",
              " 'emails you',\n",
              " 'end of',\n",
              " 'end to',\n",
              " 'engineering bits',\n",
              " 'engineering department',\n",
              " 'enrolled in',\n",
              " 'ensure that',\n",
              " 'entrepreneurial leadership',\n",
              " 'et 3d2',\n",
              " 'event and',\n",
              " 'event will',\n",
              " 'every day',\n",
              " 'every year',\n",
              " 'excited to',\n",
              " 'experience and',\n",
              " 'experience as',\n",
              " 'experience in',\n",
              " 'experience of',\n",
              " 'experience with',\n",
              " 'exposure to',\n",
              " 'f0 9f',\n",
              " 'f111 forums',\n",
              " 'f20190444 pilani',\n",
              " 'faculty and',\n",
              " 'faculty in',\n",
              " 'faculty members',\n",
              " 'feel free',\n",
              " 'field of',\n",
              " 'fill in',\n",
              " 'fill out',\n",
              " 'fill the',\n",
              " 'fill this',\n",
              " 'filling the',\n",
              " 'final year',\n",
              " 'find attached',\n",
              " 'find the',\n",
              " 'finds you',\n",
              " 'first degree',\n",
              " 'first hand',\n",
              " 'first semester',\n",
              " 'first time',\n",
              " 'follow the',\n",
              " 'follow us',\n",
              " 'followed by',\n",
              " 'following link',\n",
              " 'following schedule',\n",
              " 'for all',\n",
              " 'for an',\n",
              " 'for any',\n",
              " 'for each',\n",
              " 'for entrepreneurial',\n",
              " 'for free',\n",
              " 'for further',\n",
              " 'for more',\n",
              " 'for our',\n",
              " 'for queries',\n",
              " 'for registration',\n",
              " 'for student',\n",
              " 'for students',\n",
              " 'for the',\n",
              " 'for their',\n",
              " 'for these',\n",
              " 'for this',\n",
              " 'for those',\n",
              " 'for which',\n",
              " 'for you',\n",
              " 'for your',\n",
              " 'form and',\n",
              " 'form by',\n",
              " 'form for',\n",
              " 'form is',\n",
              " 'form link',\n",
              " 'form the',\n",
              " 'form to',\n",
              " 'forum digest',\n",
              " 'forums announcements',\n",
              " 'forward to',\n",
              " 'forwarded message',\n",
              " 'founded by',\n",
              " 'founder and',\n",
              " 'founders of',\n",
              " 'francisco ca',\n",
              " 'free to',\n",
              " 'from 10',\n",
              " 'from all',\n",
              " 'from bits',\n",
              " 'from cel',\n",
              " 'from classroom',\n",
              " 'from home',\n",
              " 'from ipcd',\n",
              " 'from our',\n",
              " 'from pm',\n",
              " 'from scratch',\n",
              " 'from student',\n",
              " 'from the',\n",
              " 'from this',\n",
              " 'from various',\n",
              " 'from your',\n",
              " 'front end',\n",
              " 'full stack',\n",
              " 'full time',\n",
              " 'further details',\n",
              " 'further doubts',\n",
              " 'further queries',\n",
              " 'get an',\n",
              " 'get chance',\n",
              " 'get started',\n",
              " 'get the',\n",
              " 'get to',\n",
              " 'get you',\n",
              " 'give you',\n",
              " 'given below',\n",
              " 'given in',\n",
              " 'glad to',\n",
              " 'globalink research',\n",
              " 'gmail com',\n",
              " 'go through',\n",
              " 'go to',\n",
              " 'going to',\n",
              " 'google com',\n",
              " 'google form',\n",
              " 'google llc',\n",
              " 'google meet',\n",
              " 'governing council',\n",
              " 'graduating in',\n",
              " 'greetings bitsians',\n",
              " 'greetings from',\n",
              " 'greetings of',\n",
              " 'group of',\n",
              " 'grow in',\n",
              " 'hands on',\n",
              " 'happy to',\n",
              " 'has also',\n",
              " 'has been',\n",
              " 'have already',\n",
              " 'have an',\n",
              " 'have any',\n",
              " 'have been',\n",
              " 'have completed',\n",
              " 'have received',\n",
              " 'have some',\n",
              " 'have the',\n",
              " 'have to',\n",
              " 'have you',\n",
              " 'he has',\n",
              " 'he is',\n",
              " 'he was',\n",
              " 'head department',\n",
              " 'head of',\n",
              " 'hear from',\n",
              " 'held on',\n",
              " 'hello bitsians',\n",
              " 'help of',\n",
              " 'help students',\n",
              " 'help us',\n",
              " 'help you',\n",
              " 'here are',\n",
              " 'here e2',\n",
              " 'here for',\n",
              " 'here is',\n",
              " 'here the',\n",
              " 'here to',\n",
              " 'hi arsh',\n",
              " 'high quality',\n",
              " 'higher degree',\n",
              " 'hiring challenges',\n",
              " 'his her',\n",
              " 'hope that',\n",
              " 'hope this',\n",
              " 'hope to',\n",
              " 'hope you',\n",
              " 'how do',\n",
              " 'how to',\n",
              " 'how you',\n",
              " 'humanities and',\n",
              " 'ic change',\n",
              " 'idea of',\n",
              " 'if the',\n",
              " 'if there',\n",
              " 'if they',\n",
              " 'if you',\n",
              " 'image gif',\n",
              " 'image image',\n",
              " 'image mailtrack',\n",
              " 'image png',\n",
              " 'implementation of',\n",
              " 'in 2021',\n",
              " 'in 2022',\n",
              " 'in addition',\n",
              " 'in advance',\n",
              " 'in an',\n",
              " 'in and',\n",
              " 'in any',\n",
              " 'in association',\n",
              " 'in bangalore',\n",
              " 'in case',\n",
              " 'in cel',\n",
              " 'in charge',\n",
              " 'in collaboration',\n",
              " 'in computer',\n",
              " 'in data',\n",
              " 'in his',\n",
              " 'in if',\n",
              " 'in india',\n",
              " 'in mind',\n",
              " 'in one',\n",
              " 'in order',\n",
              " 'in our',\n",
              " 'in regards',\n",
              " 'in startup',\n",
              " 'in the',\n",
              " 'in their',\n",
              " 'in these',\n",
              " 'in this',\n",
              " 'in to',\n",
              " 'in various',\n",
              " 'in wrote',\n",
              " 'in your',\n",
              " 'inc all',\n",
              " 'inconvenience caused',\n",
              " 'india and',\n",
              " 'india e2',\n",
              " 'india phone',\n",
              " 'india with',\n",
              " 'indian institute',\n",
              " 'industry experts',\n",
              " 'inform you',\n",
              " 'information about',\n",
              " 'information on',\n",
              " 'initiative taken',\n",
              " 'institute of',\n",
              " 'intended for',\n",
              " 'interact with',\n",
              " 'interested in',\n",
              " 'interested students',\n",
              " 'international programmes',\n",
              " 'internship opportunities',\n",
              " 'internship opportunity',\n",
              " 'internship program',\n",
              " 'internship programme',\n",
              " 'internships and',\n",
              " 'internships hiring',\n",
              " 'internships we',\n",
              " 'into the',\n",
              " 'into your',\n",
              " 'introduction to',\n",
              " 'invite you',\n",
              " 'invited to',\n",
              " 'ipcd team',\n",
              " 'is 11',\n",
              " 'is also',\n",
              " 'is an',\n",
              " 'is available',\n",
              " 'is brief',\n",
              " 'is currently',\n",
              " 'is for',\n",
              " 'is going',\n",
              " 'is important',\n",
              " 'is in',\n",
              " 'is it',\n",
              " 'is not',\n",
              " 'is now',\n",
              " 'is on',\n",
              " 'is one',\n",
              " 'is open',\n",
              " 'is organizing',\n",
              " 'is required',\n",
              " 'is scheduled',\n",
              " 'is the',\n",
              " 'is to',\n",
              " 'is very',\n",
              " 'is working',\n",
              " 'is your',\n",
              " 'it all',\n",
              " 'it and',\n",
              " 'it e2',\n",
              " 'it has',\n",
              " 'it is',\n",
              " 'it the',\n",
              " 'it to',\n",
              " 'it was',\n",
              " 'it will',\n",
              " 'jindal email',\n",
              " 'job description',\n",
              " 'join our',\n",
              " 'join the',\n",
              " 'join us',\n",
              " 'joint secretary',\n",
              " 'journey of',\n",
              " 'july 2021',\n",
              " 'kind of',\n",
              " 'kind regards',\n",
              " 'kindly fill',\n",
              " 'kindly note',\n",
              " 'know more',\n",
              " 'know that',\n",
              " 'knowledge and',\n",
              " 'knowledge of',\n",
              " 'kr sharma',\n",
              " 'kumarprofessor of',\n",
              " 'lab 2021',\n",
              " 'last date',\n",
              " 'latest by',\n",
              " 'lead summer',\n",
              " 'leaders and',\n",
              " 'leadership bits',\n",
              " 'learn about',\n",
              " 'learn and',\n",
              " 'learn how',\n",
              " 'learn more',\n",
              " 'learning and',\n",
              " 'learning experience',\n",
              " 'learning the',\n",
              " 'like to',\n",
              " 'like you',\n",
              " 'link above',\n",
              " 'link below',\n",
              " 'link for',\n",
              " 'link meet',\n",
              " 'link the',\n",
              " 'link to',\n",
              " 'list of',\n",
              " 'live on',\n",
              " 'live sessions',\n",
              " 'll be',\n",
              " 'llc 1600',\n",
              " 'look forward',\n",
              " 'looking for',\n",
              " 'looking forward',\n",
              " 'looking to',\n",
              " 'lot of',\n",
              " 'machine learning',\n",
              " 'mail personal',\n",
              " 'mail phone',\n",
              " 'mail to',\n",
              " 'mail university',\n",
              " 'make it',\n",
              " 'make sure',\n",
              " 'make the',\n",
              " 'make up',\n",
              " 'make your',\n",
              " 'management and',\n",
              " 'management assistant',\n",
              " 'management associate',\n",
              " 'management faculty',\n",
              " 'manager placements',\n",
              " 'many more',\n",
              " 'many of',\n",
              " 'march 2021',\n",
              " 'market research',\n",
              " 'marketing and',\n",
              " 'may be',\n",
              " 'may contact',\n",
              " 'may not',\n",
              " 'mechanical engineering',\n",
              " 'media handles',\n",
              " 'meet google',\n",
              " 'meet link',\n",
              " 'meet the',\n",
              " 'member of',\n",
              " 'members of',\n",
              " 'mentioned in',\n",
              " 'mess services',\n",
              " 'message from',\n",
              " 'mid sem',\n",
              " 'mid semester',\n",
              " 'mishra senior',\n",
              " 'mobile 91',\n",
              " 'more about',\n",
              " 'more details',\n",
              " 'more information',\n",
              " 'more than',\n",
              " 'more top_ans',\n",
              " 'mountain view',\n",
              " 'much more',\n",
              " 'must be',\n",
              " 'must have',\n",
              " 'my husband',\n",
              " 'name of',\n",
              " 'navin singh',\n",
              " 'navneet goyal',\n",
              " 'need to',\n",
              " 'needs of',\n",
              " 'new announcement',\n",
              " 'new delhi',\n",
              " 'no 91',\n",
              " 'no further',\n",
              " 'no longer',\n",
              " 'no pre',\n",
              " 'not allowed',\n",
              " 'not be',\n",
              " 'not just',\n",
              " 'not only',\n",
              " 'not reply',\n",
              " 'not to',\n",
              " 'note that',\n",
              " 'note the',\n",
              " 'notice for',\n",
              " 'notified by',\n",
              " 'november 2021',\n",
              " 'now you',\n",
              " 'number of',\n",
              " 'oct 21',\n",
              " 'october 2021',\n",
              " 'of all',\n",
              " 'of an',\n",
              " 'of any',\n",
              " 'of august',\n",
              " 'of bits',\n",
              " 'of chemical',\n",
              " 'of chemistry',\n",
              " 'of companies',\n",
              " 'of course',\n",
              " 'of e2',\n",
              " 'of each',\n",
              " 'of economics',\n",
              " 'of email',\n",
              " 'of emails',\n",
              " 'of engineering',\n",
              " 'of humanities',\n",
              " 'of india',\n",
              " 'of its',\n",
              " 'of management',\n",
              " 'of mechanical',\n",
              " 'of new',\n",
              " 'of our',\n",
              " 'of physics',\n",
              " 'of students',\n",
              " 'of technology',\n",
              " 'of the',\n",
              " 'of their',\n",
              " 'of them',\n",
              " 'of these',\n",
              " 'of this',\n",
              " 'of those',\n",
              " 'of two',\n",
              " 'of us',\n",
              " 'of what',\n",
              " 'of which',\n",
              " 'of you',\n",
              " 'of your',\n",
              " 'off campus',\n",
              " 'on all',\n",
              " 'on campus',\n",
              " 'on experience',\n",
              " 'on how',\n",
              " 'on instagram',\n",
              " 'on nalanda',\n",
              " 'on october',\n",
              " 'on our',\n",
              " 'on sunday',\n",
              " 'on the',\n",
              " 'on their',\n",
              " 'on this',\n",
              " 'on time',\n",
              " 'on your',\n",
              " 'one of',\n",
              " 'only the',\n",
              " 'open for',\n",
              " 'open posted',\n",
              " 'open to',\n",
              " 'opportunities for',\n",
              " 'opportunities to',\n",
              " 'opportunity at',\n",
              " 'opportunity for',\n",
              " 'opportunity to',\n",
              " 'or email',\n",
              " 'or more',\n",
              " 'or other',\n",
              " 'or the',\n",
              " 'order to',\n",
              " 'organized by',\n",
              " 'other trademarks',\n",
              " 'our app',\n",
              " 'our instagram',\n",
              " 'our project',\n",
              " 'our team',\n",
              " 'our website',\n",
              " 'out of',\n",
              " 'out our',\n",
              " 'out the',\n",
              " 'out this',\n",
              " 'out to',\n",
              " 'over the',\n",
              " 'parkway mountain',\n",
              " 'part of',\n",
              " 'participate in',\n",
              " 'participating in',\n",
              " 'pdf change',\n",
              " 'people who',\n",
              " 'per the',\n",
              " 'personal mail',\n",
              " 'personal university',\n",
              " 'pfa the',\n",
              " 'phd supply',\n",
              " 'phone 91',\n",
              " 'pied society',\n",
              " 'pilani 333031',\n",
              " 'pilani ac',\n",
              " 'pilani and',\n",
              " 'pilani bits',\n",
              " 'pilani campus',\n",
              " 'pilani campusmobile',\n",
              " 'pilani chapter',\n",
              " 'pilani e2',\n",
              " 'pilani in',\n",
              " 'pilani is',\n",
              " 'pilani pilani',\n",
              " 'pilani rajasthan',\n",
              " 'pilani the',\n",
              " 'pilani we',\n",
              " 'placement unit',\n",
              " 'platform for',\n",
              " 'please be',\n",
              " 'please click',\n",
              " 'please contact',\n",
              " 'please do',\n",
              " 'please ensure',\n",
              " 'please feel',\n",
              " 'please fill',\n",
              " 'please find',\n",
              " 'please go',\n",
              " 'please join',\n",
              " 'please note',\n",
              " 'please refer',\n",
              " ...]"
            ]
          },
          "metadata": {},
          "execution_count": 67
        }
      ]
    },
    {
      "cell_type": "code",
      "metadata": {
        "id": "6mm-nWbxOa1M"
      },
      "source": [
        "clf_nb_gaussian = GaussianNB()"
      ],
      "execution_count": null,
      "outputs": []
    },
    {
      "cell_type": "code",
      "metadata": {
        "colab": {
          "base_uri": "https://localhost:8080/"
        },
        "id": "dFZCr37AQaDu",
        "outputId": "be93c390-a5db-42f2-af2a-b0949d441453"
      },
      "source": [
        "clf_nb_gaussian.fit(uni.toarray(), df_train['Label'])"
      ],
      "execution_count": null,
      "outputs": [
        {
          "output_type": "execute_result",
          "data": {
            "text/plain": [
              "GaussianNB(priors=None, var_smoothing=1e-09)"
            ]
          },
          "metadata": {},
          "execution_count": 69
        }
      ]
    },
    {
      "cell_type": "code",
      "metadata": {
        "id": "TzZNNmBkTNzt"
      },
      "source": [
        "predictions = clf_nb_gaussian.predict(vectorizer_uni.fit_transform(df_test['body']).toarray())"
      ],
      "execution_count": null,
      "outputs": []
    },
    {
      "cell_type": "code",
      "metadata": {
        "colab": {
          "base_uri": "https://localhost:8080/"
        },
        "id": "BL_jjCq2aunN",
        "outputId": "5d2d9fb9-093d-4ad8-9d72-c4d3eb13e91f"
      },
      "source": [
        "df_test['Label'] == predictions"
      ],
      "execution_count": null,
      "outputs": [
        {
          "output_type": "execute_result",
          "data": {
            "text/plain": [
              "443    False\n",
              "709    False\n",
              "724     True\n",
              "90      True\n",
              "469     True\n",
              "       ...  \n",
              "332     True\n",
              "271     True\n",
              "721    False\n",
              "211    False\n",
              "773     True\n",
              "Name: Label, Length: 202, dtype: bool"
            ]
          },
          "metadata": {},
          "execution_count": 77
        }
      ]
    },
    {
      "cell_type": "code",
      "metadata": {
        "colab": {
          "base_uri": "https://localhost:8080/",
          "height": 35
        },
        "id": "8NghXFyc59WN",
        "outputId": "1618d1cb-e5af-4f94-ae68-323360e12a59"
      },
      "source": [
        "getcwd()"
      ],
      "execution_count": null,
      "outputs": [
        {
          "output_type": "execute_result",
          "data": {
            "application/vnd.google.colaboratory.intrinsic+json": {
              "type": "string"
            },
            "text/plain": [
              "'/content/gdrive/MyDrive/Email-Classifier/arsh_emails'"
            ]
          },
          "metadata": {},
          "execution_count": 102
        }
      ]
    },
    {
      "cell_type": "code",
      "metadata": {
        "id": "fU3LNvgs6Aic"
      },
      "source": [
        "!mkdir Results"
      ],
      "execution_count": null,
      "outputs": []
    },
    {
      "cell_type": "code",
      "metadata": {
        "id": "TXHNvR3f6C5T"
      },
      "source": [
        "os.chdir('./Results')"
      ],
      "execution_count": null,
      "outputs": []
    },
    {
      "cell_type": "code",
      "metadata": {
        "id": "GebjZ8CGv-c0"
      },
      "source": [
        "from sklearn.metrics import confusion_matrix"
      ],
      "execution_count": null,
      "outputs": []
    },
    {
      "cell_type": "code",
      "metadata": {
        "id": "xkk8M2YSvQ48"
      },
      "source": [
        "import seaborn as sns\n",
        "import matplotlib.pyplot as plt"
      ],
      "execution_count": null,
      "outputs": []
    },
    {
      "cell_type": "code",
      "metadata": {
        "id": "ALjcg_bpvMLX"
      },
      "source": [
        "nb_gaussian_uni_cf_matrix = confusion_matrix(df_test['Label'], predictions)"
      ],
      "execution_count": null,
      "outputs": []
    },
    {
      "cell_type": "code",
      "metadata": {
        "id": "1kiWOlgwe4nE"
      },
      "source": [
        "labels = ['Academic', 'Admin', 'Formal','Intern/Placement', 'Recreation', 'Spam']"
      ],
      "execution_count": null,
      "outputs": []
    },
    {
      "cell_type": "code",
      "metadata": {
        "id": "1LdpguQG3fYp",
        "colab": {
          "base_uri": "https://localhost:8080/",
          "height": 606
        },
        "outputId": "22298d88-4069-4fa7-d67f-76f6f5ac46eb"
      },
      "source": [
        "fig, axis = plt.subplots(figsize=(15,10))\n",
        "ax = sns.heatmap(nb_gaussian_uni_cf_matrix, annot=True, cmap='winter_r')\n",
        "ax.set_xlabel('Predicted Categories');\n",
        "ax.set_ylabel('Actual Categories');\n",
        "ax.xaxis.set_ticklabels(labels);\n",
        "ax.yaxis.set_ticklabels(labels);\n",
        "plt.savefig('uni_gaussian_cf.jpg')"
      ],
      "execution_count": null,
      "outputs": [
        {
          "output_type": "display_data",
          "data": {
            "image/png": "[encoded data removed]",
            "text/plain": [
              "<Figure size 1080x720 with 2 Axes>"
            ]
          },
          "metadata": {
            "needs_background": "light"
          }
        }
      ]
    },
    {
      "cell_type": "code",
      "metadata": {
        "colab": {
          "base_uri": "https://localhost:8080/"
        },
        "id": "ivd5Fy94xHz6",
        "outputId": "55c6db99-fb84-422a-e945-22259eeb95d4"
      },
      "source": [
        "accuracy_score(df_test['Label'], predictions)"
      ],
      "execution_count": null,
      "outputs": [
        {
          "output_type": "execute_result",
          "data": {
            "text/plain": [
              "0.7277227722772277"
            ]
          },
          "metadata": {},
          "execution_count": 82
        }
      ]
    },
    {
      "cell_type": "code",
      "metadata": {
        "id": "GxBXrLQKx5dl"
      },
      "source": [
        "clf_nb_multinomial = MultinomialNB()"
      ],
      "execution_count": null,
      "outputs": []
    },
    {
      "cell_type": "code",
      "metadata": {
        "colab": {
          "base_uri": "https://localhost:8080/"
        },
        "id": "1IPYV29myCRO",
        "outputId": "1c2ddca9-0344-4c9e-d696-7b882c535716"
      },
      "source": [
        "clf_nb_multinomial.fit(uni.toarray(), df_train['Label'])"
      ],
      "execution_count": null,
      "outputs": [
        {
          "output_type": "execute_result",
          "data": {
            "text/plain": [
              "MultinomialNB(alpha=1.0, class_prior=None, fit_prior=True)"
            ]
          },
          "metadata": {},
          "execution_count": 84
        }
      ]
    },
    {
      "cell_type": "code",
      "metadata": {
        "colab": {
          "base_uri": "https://localhost:8080/"
        },
        "id": "lSGeZan-yN1E",
        "outputId": "a9b95940-da05-47f3-e4b1-6e6d62500811"
      },
      "source": [
        "email_test = vectorizer_uni.fit_transform(df_test['body']).toarray()\n",
        "predictions_nb_multinomial = clf_nb_multinomial.predict(email_test)\n",
        "accuracy_score(df_test['Label'], predictions_nb_multinomial)"
      ],
      "execution_count": null,
      "outputs": [
        {
          "output_type": "execute_result",
          "data": {
            "text/plain": [
              "0.7871287128712872"
            ]
          },
          "metadata": {},
          "execution_count": 85
        }
      ]
    },
    {
      "cell_type": "code",
      "metadata": {
        "id": "vak0f6ERQb89"
      },
      "source": [
        "nb_multinomial_uni_cf_matrix = confusion_matrix(df_test['Label'], predictions_nb_multinomial)"
      ],
      "execution_count": null,
      "outputs": []
    },
    {
      "cell_type": "code",
      "metadata": {
        "colab": {
          "base_uri": "https://localhost:8080/",
          "height": 606
        },
        "id": "zMLsXgzgRU7T",
        "outputId": "f7b91c3b-04f0-45e6-bc9d-7db328c2736f"
      },
      "source": [
        "fig, axis = plt.subplots(figsize=(15,10))\n",
        "ax = sns.heatmap(nb_multinomial_uni_cf_matrix, annot=True, cmap='winter_r')\n",
        "ax.set_xlabel('Predicted Categories');\n",
        "ax.set_ylabel('Actual Categories');\n",
        "ax.xaxis.set_ticklabels(labels);\n",
        "ax.yaxis.set_ticklabels(labels);\n",
        "plt.savefig('uni_multinomial_cf.jpg')"
      ],
      "execution_count": null,
      "outputs": [
        {
          "output_type": "display_data",
          "data": {
            "image/png": "[encoded data removed]",
            "text/plain": [
              "<Figure size 1080x720 with 2 Axes>"
            ]
          },
          "metadata": {
            "needs_background": "light"
          }
        }
      ]
    },
    {
      "cell_type": "code",
      "metadata": {
        "colab": {
          "base_uri": "https://localhost:8080/"
        },
        "id": "fFvJ018xzdVX",
        "outputId": "be24e80c-c9b7-4322-aeac-22f5f2859375"
      },
      "source": [
        "clf_nb_gaussian.fit(bi.toarray(), df_train['Label'])\n",
        "predictions_nb_gaussian_bi = clf_nb_gaussian.predict(vectorizer_bi.fit_transform(df_test['body']).toarray())\n",
        "accuracy_score(df_test['Label'], predictions_nb_gaussian_bi)"
      ],
      "execution_count": null,
      "outputs": [
        {
          "output_type": "execute_result",
          "data": {
            "text/plain": [
              "0.15346534653465346"
            ]
          },
          "metadata": {},
          "execution_count": 88
        }
      ]
    },
    {
      "cell_type": "code",
      "metadata": {
        "colab": {
          "base_uri": "https://localhost:8080/"
        },
        "id": "zDBYOcP90lWW",
        "outputId": "02582879-b6cb-4c19-f380-0d7b6897bf86"
      },
      "source": [
        "clf_nb_gaussian.fit(tri.toarray(), df_train['Label'])\n",
        "predictions_nb_gaussian_tri = clf_nb_gaussian.predict(vectorizer_tri.fit_transform(df_test['body']).toarray())\n",
        "accuracy_score(df_test['Label'], predictions_nb_gaussian_tri)"
      ],
      "execution_count": null,
      "outputs": [
        {
          "output_type": "execute_result",
          "data": {
            "text/plain": [
              "0.18811881188118812"
            ]
          },
          "metadata": {},
          "execution_count": 89
        }
      ]
    },
    {
      "cell_type": "code",
      "metadata": {
        "colab": {
          "base_uri": "https://localhost:8080/"
        },
        "id": "aq1As6WB02Wk",
        "outputId": "dfec59af-38d9-4b3d-8664-b307dbab2adc"
      },
      "source": [
        "clf_nb_multinomial.fit(bi.toarray(), df_train['Label'])\n",
        "predictions_nb_multinomial_bi = clf_nb_multinomial.predict(vectorizer_bi.fit_transform(df_test['body']).toarray())\n",
        "accuracy_score(df_test['Label'], predictions_nb_multinomial_bi)"
      ],
      "execution_count": null,
      "outputs": [
        {
          "output_type": "execute_result",
          "data": {
            "text/plain": [
              "0.15346534653465346"
            ]
          },
          "metadata": {},
          "execution_count": 90
        }
      ]
    },
    {
      "cell_type": "code",
      "metadata": {
        "colab": {
          "base_uri": "https://localhost:8080/"
        },
        "id": "VbeS3gGb1O-n",
        "outputId": "48cd8dfe-bad9-4d1b-8609-74078eeedeca"
      },
      "source": [
        "clf_nb_multinomial.fit(tri.toarray(), df_train['Label'])\n",
        "predictions_nb_multinomial_tri = clf_nb_multinomial.predict(vectorizer_tri.fit_transform(df_test['body']).toarray())\n",
        "accuracy_score(df_test['Label'], predictions_nb_multinomial_tri)"
      ],
      "execution_count": null,
      "outputs": [
        {
          "output_type": "execute_result",
          "data": {
            "text/plain": [
              "0.15346534653465346"
            ]
          },
          "metadata": {},
          "execution_count": 91
        }
      ]
    },
    {
      "cell_type": "code",
      "metadata": {
        "id": "GcIrMHmK1s7K"
      },
      "source": [
        "# Linear SVM\n",
        "from sklearn.svm import SVC\n",
        "clf_svm_linear = SVC(kernel = 'linear')"
      ],
      "execution_count": null,
      "outputs": []
    },
    {
      "cell_type": "code",
      "metadata": {
        "colab": {
          "base_uri": "https://localhost:8080/"
        },
        "id": "pAAYyC994S4l",
        "outputId": "bd935da8-4e6c-487c-9fe5-c8e9afe507c2"
      },
      "source": [
        "clf_svm_linear.fit(uni.toarray(), df_train['Label'])\n",
        "predictions_svm_linear_uni = clf_svm_linear.predict(email_test)\n",
        "accuracy_score(df_test['Label'], predictions_svm_linear_uni)"
      ],
      "execution_count": null,
      "outputs": [
        {
          "output_type": "execute_result",
          "data": {
            "text/plain": [
              "0.8217821782178217"
            ]
          },
          "metadata": {},
          "execution_count": 93
        }
      ]
    },
    {
      "cell_type": "code",
      "metadata": {
        "id": "B4RVIVB2R9dS"
      },
      "source": [
        "svm_linear_uni_cf_matrix = confusion_matrix(df_test['Label'], predictions_svm_linear_uni)"
      ],
      "execution_count": null,
      "outputs": []
    },
    {
      "cell_type": "code",
      "metadata": {
        "colab": {
          "base_uri": "https://localhost:8080/",
          "height": 606
        },
        "id": "07DAvJQESA-6",
        "outputId": "d536bcef-56cf-4623-c0d6-b55a03ba5cbc"
      },
      "source": [
        "fig, axis = plt.subplots(figsize=(15,10))\n",
        "ax = sns.heatmap(svm_linear_uni_cf_matrix, annot=True, cmap='winter_r')\n",
        "ax.set_xlabel('Predicted Categories');\n",
        "ax.set_ylabel('Actual Categories');\n",
        "ax.xaxis.set_ticklabels(labels);\n",
        "ax.yaxis.set_ticklabels(labels);\n",
        "plt.savefig('uni_svm_cf.jpg')"
      ],
      "execution_count": null,
      "outputs": [
        {
          "output_type": "display_data",
          "data": {
            "image/png": "[encoded data removed]",
            "text/plain": [
              "<Figure size 1080x720 with 2 Axes>"
            ]
          },
          "metadata": {
            "needs_background": "light"
          }
        }
      ]
    },
    {
      "cell_type": "code",
      "metadata": {
        "colab": {
          "base_uri": "https://localhost:8080/"
        },
        "id": "e4rLJo4242wv",
        "outputId": "610f4826-0135-4dd3-db31-1fdcaeefe071"
      },
      "source": [
        "clf_svm_linear.fit(bi.toarray(), df_train['Label'])\n",
        "predictions_svm_linear_bi = clf_svm_linear.predict(vectorizer_bi.fit_transform(df_test['body']).toarray())\n",
        "accuracy_score(df_test['Label'], predictions_svm_linear_bi)"
      ],
      "execution_count": null,
      "outputs": [
        {
          "output_type": "execute_result",
          "data": {
            "text/plain": [
              "0.14356435643564355"
            ]
          },
          "metadata": {},
          "execution_count": 96
        }
      ]
    },
    {
      "cell_type": "code",
      "metadata": {
        "colab": {
          "base_uri": "https://localhost:8080/"
        },
        "id": "NRQf-JI-63kI",
        "outputId": "050d06d2-ddaa-462d-e0ca-a369e7b57328"
      },
      "source": [
        "clf_svm_linear.fit(tri.toarray(), df_train['Label'])\n",
        "predictions_svm_linear_tri = clf_svm_linear.predict(vectorizer_tri.fit_transform(df_test['body']).toarray())\n",
        "accuracy_score(df_test['Label'], predictions_svm_linear_tri)"
      ],
      "execution_count": null,
      "outputs": [
        {
          "output_type": "execute_result",
          "data": {
            "text/plain": [
              "0.14356435643564355"
            ]
          },
          "metadata": {},
          "execution_count": 97
        }
      ]
    },
    {
      "cell_type": "code",
      "metadata": {
        "id": "Wv2hcJpE-pte"
      },
      "source": [
        "#RBF SVM\n",
        "clf_svm_rbf = SVC(kernel = 'rbf')"
      ],
      "execution_count": null,
      "outputs": []
    },
    {
      "cell_type": "code",
      "metadata": {
        "colab": {
          "base_uri": "https://localhost:8080/"
        },
        "id": "VYjDNIr9_KIv",
        "outputId": "138f54ef-54d9-403e-8261-6b81118c1d04"
      },
      "source": [
        "clf_svm_rbf.fit(uni.toarray(), df_train['Label'])\n",
        "predictions_svm_rbf_uni = clf_svm_rbf.predict(email_test)\n",
        "accuracy_score(df_test['Label'], predictions_svm_rbf_uni)"
      ],
      "execution_count": null,
      "outputs": [
        {
          "output_type": "execute_result",
          "data": {
            "text/plain": [
              "0.8118811881188119"
            ]
          },
          "metadata": {},
          "execution_count": 99
        }
      ]
    },
    {
      "cell_type": "code",
      "metadata": {
        "id": "HrGuHkeiSTnB"
      },
      "source": [
        "svm_rbf_uni_cf_matrix = confusion_matrix(df_test['Label'], predictions_svm_rbf_uni)"
      ],
      "execution_count": null,
      "outputs": []
    },
    {
      "cell_type": "code",
      "metadata": {
        "colab": {
          "base_uri": "https://localhost:8080/",
          "height": 606
        },
        "id": "CbjQnmrmSWSh",
        "outputId": "314baee6-91c8-46de-9105-65843e819c84"
      },
      "source": [
        "fig, axis = plt.subplots(figsize=(15,10))\n",
        "ax = sns.heatmap(svm_rbf_uni_cf_matrix, annot=True, cmap='winter_r')\n",
        "ax.set_xlabel('Predicted Categories');\n",
        "ax.set_ylabel('Actual Categories');\n",
        "ax.xaxis.set_ticklabels(labels);\n",
        "ax.yaxis.set_ticklabels(labels);\n",
        "plt.savefig('uni_svm_rbf_cf.jpg')"
      ],
      "execution_count": null,
      "outputs": [
        {
          "output_type": "display_data",
          "data": {
            "image/png": "[encoded data removed]",
            "text/plain": [
              "<Figure size 1080x720 with 2 Axes>"
            ]
          },
          "metadata": {
            "needs_background": "light"
          }
        }
      ]
    },
    {
      "cell_type": "code",
      "metadata": {
        "colab": {
          "base_uri": "https://localhost:8080/"
        },
        "id": "oPFeTrsI_Qae",
        "outputId": "a51c68fc-716b-4dc2-911d-cb8b8f458d88"
      },
      "source": [
        "clf_svm_rbf.fit(bi.toarray(), df_train['Label'])\n",
        "predictions_svm_rbf_bi = clf_svm_rbf.predict(vectorizer_bi.fit_transform(df_test['body']).toarray())\n",
        "accuracy_score(df_test['Label'], predictions_svm_linear_bi)"
      ],
      "execution_count": null,
      "outputs": [
        {
          "output_type": "execute_result",
          "data": {
            "text/plain": [
              "0.14356435643564355"
            ]
          },
          "metadata": {},
          "execution_count": 110
        }
      ]
    },
    {
      "cell_type": "code",
      "metadata": {
        "colab": {
          "base_uri": "https://localhost:8080/"
        },
        "id": "cYEzqN0HAGdV",
        "outputId": "9174dbea-f883-46a5-aa0b-ba1929d66554"
      },
      "source": [
        "clf_svm_rbf.fit(tri.toarray(), df_train['Label'])\n",
        "predictions_svm_rbf_tri = clf_svm_rbf.predict(vectorizer_tri.fit_transform(df_test['body']).toarray())\n",
        "accuracy_score(df_test['Label'], predictions_svm_rbf_tri)"
      ],
      "execution_count": null,
      "outputs": [
        {
          "output_type": "execute_result",
          "data": {
            "text/plain": [
              "0.14356435643564355"
            ]
          },
          "metadata": {},
          "execution_count": 111
        }
      ]
    },
    {
      "cell_type": "code",
      "metadata": {
        "id": "QBeat50VKLJW"
      },
      "source": [
        "#Poly SVM\n",
        "clf_svm_poly = SVC(kernel = 'poly')"
      ],
      "execution_count": null,
      "outputs": []
    },
    {
      "cell_type": "code",
      "metadata": {
        "colab": {
          "base_uri": "https://localhost:8080/"
        },
        "id": "3uJrYrgsLfCu",
        "outputId": "b7c547bd-c8e9-4596-91cc-75507a3fc4f5"
      },
      "source": [
        "clf_svm_poly.fit(uni.toarray(), df_train['Label'])\n",
        "predictions_svm_poly_uni = clf_svm_poly.predict(email_test)\n",
        "accuracy_score(df_test['Label'], predictions_svm_poly_uni)"
      ],
      "execution_count": null,
      "outputs": [
        {
          "output_type": "execute_result",
          "data": {
            "text/plain": [
              "0.7574257425742574"
            ]
          },
          "metadata": {},
          "execution_count": 113
        }
      ]
    },
    {
      "cell_type": "code",
      "metadata": {
        "id": "qbI3h7RXSmof",
        "colab": {
          "base_uri": "https://localhost:8080/",
          "height": 606
        },
        "outputId": "41bbc747-c6e8-4c01-d8b4-a6d92e3d7446"
      },
      "source": [
        "svm_poly_uni_cf_matrix = confusion_matrix(df_test['Label'], predictions_svm_poly_uni)\n",
        "fig, axis = plt.subplots(figsize=(15,10))\n",
        "ax = sns.heatmap(svm_poly_uni_cf_matrix, annot=True, cmap='winter_r')\n",
        "ax.set_xlabel('Predicted Categories');\n",
        "ax.set_ylabel('Actual Categories');\n",
        "ax.xaxis.set_ticklabels(labels);\n",
        "ax.yaxis.set_ticklabels(labels);\n",
        "plt.savefig('uni_svm_poly_cf.jpg')"
      ],
      "execution_count": null,
      "outputs": [
        {
          "output_type": "display_data",
          "data": {
            "image/png": "[encoded data removed]",
            "text/plain": [
              "<Figure size 1080x720 with 2 Axes>"
            ]
          },
          "metadata": {
            "needs_background": "light"
          }
        }
      ]
    },
    {
      "cell_type": "code",
      "metadata": {
        "colab": {
          "base_uri": "https://localhost:8080/"
        },
        "id": "Z264QgL4Lok_",
        "outputId": "473783ee-5f98-40ea-917d-827c06dd040e"
      },
      "source": [
        "clf_svm_poly.fit(bi.toarray(), df_train['Label'])\n",
        "predictions_svm_poly_bi = clf_svm_poly.predict(vectorizer_bi.fit_transform(df_test['body']).toarray())\n",
        "accuracy_score(df_test['Label'], predictions_svm_poly_bi)"
      ],
      "execution_count": null,
      "outputs": [
        {
          "output_type": "execute_result",
          "data": {
            "text/plain": [
              "0.14356435643564355"
            ]
          },
          "metadata": {},
          "execution_count": 119
        }
      ]
    },
    {
      "cell_type": "code",
      "metadata": {
        "colab": {
          "base_uri": "https://localhost:8080/"
        },
        "id": "jMk18BZ-MA61",
        "outputId": "160eef24-2ab9-45ab-e91d-552245e33e45"
      },
      "source": [
        "clf_svm_poly.fit(tri.toarray(), df_train['Label'])\n",
        "predictions_svm_poly_tri = clf_svm_poly.predict(vectorizer_tri.fit_transform(df_test['body']).toarray())\n",
        "accuracy_score(df_test['Label'], predictions_svm_poly_tri)"
      ],
      "execution_count": null,
      "outputs": [
        {
          "output_type": "execute_result",
          "data": {
            "text/plain": [
              "0.14356435643564355"
            ]
          },
          "metadata": {},
          "execution_count": 120
        }
      ]
    },
    {
      "cell_type": "code",
      "metadata": {
        "id": "H-x7FDd9MHQl"
      },
      "source": [
        "#Decision Tree\n",
        "from sklearn import tree\n",
        "clf_dt = tree.DecisionTreeClassifier()"
      ],
      "execution_count": null,
      "outputs": []
    },
    {
      "cell_type": "code",
      "metadata": {
        "colab": {
          "base_uri": "https://localhost:8080/"
        },
        "id": "9r43Z-KIMZw5",
        "outputId": "37f3ce8b-0ed4-42f1-9239-572a0e3444c0"
      },
      "source": [
        "clf_dt.fit(uni.toarray(), df_train['Label'])\n",
        "predictions_dt_uni = clf_dt.predict(email_test)\n",
        "accuracy_score(df_test['Label'], predictions_dt_uni)"
      ],
      "execution_count": null,
      "outputs": [
        {
          "output_type": "execute_result",
          "data": {
            "text/plain": [
              "0.7227722772277227"
            ]
          },
          "metadata": {},
          "execution_count": 122
        }
      ]
    },
    {
      "cell_type": "code",
      "metadata": {
        "id": "IFtWK9cCS5z-",
        "colab": {
          "base_uri": "https://localhost:8080/",
          "height": 606
        },
        "outputId": "18bf783c-7056-45e9-e5db-daed73d72a2a"
      },
      "source": [
        "dt_uni_cf_matrix = confusion_matrix(df_test['Label'], predictions_dt_uni)\n",
        "fig, axis = plt.subplots(figsize=(15,10))\n",
        "ax = sns.heatmap(svm_poly_uni_cf_matrix, annot=True, cmap='winter_r')\n",
        "ax.set_xlabel('Predicted Categories');\n",
        "ax.set_ylabel('Actual Categories');\n",
        "ax.xaxis.set_ticklabels(labels);\n",
        "ax.yaxis.set_ticklabels(labels);\n",
        "plt.savefig('uni_dt_cf.jpg')"
      ],
      "execution_count": null,
      "outputs": [
        {
          "output_type": "display_data",
          "data": {
            "image/png": "[encoded data removed]",
            "text/plain": [
              "<Figure size 1080x720 with 2 Axes>"
            ]
          },
          "metadata": {
            "needs_background": "light"
          }
        }
      ]
    },
    {
      "cell_type": "code",
      "metadata": {
        "colab": {
          "base_uri": "https://localhost:8080/"
        },
        "id": "OoxG4OS-oz85",
        "outputId": "5314c4a0-a3a9-47db-fed1-4aed5055cfa8"
      },
      "source": [
        "clf_dt.fit(bi.toarray(), df_train['Label'])\n",
        "predictions_dt_bi = clf_dt.predict(vectorizer_bi.fit_transform(df_test['body'].astype('U')).toarray())\n",
        "accuracy_score(df_test['Label'], predictions_dt_bi)"
      ],
      "execution_count": null,
      "outputs": [
        {
          "output_type": "execute_result",
          "data": {
            "text/plain": [
              "0.16831683168316833"
            ]
          },
          "metadata": {},
          "execution_count": 74
        }
      ]
    },
    {
      "cell_type": "code",
      "metadata": {
        "colab": {
          "base_uri": "https://localhost:8080/"
        },
        "id": "nT7Qum6FqAe1",
        "outputId": "3d2e72f2-7909-4a83-a246-29737b6726bd"
      },
      "source": [
        "clf_dt.fit(tri.toarray(), df_train['Label'])\n",
        "predictions_dt_tri = clf_dt.predict(vectorizer_tri.fit_transform(df_test['body'].astype('U')).toarray())\n",
        "accuracy_score(df_test['Label'], predictions_dt_tri)"
      ],
      "execution_count": null,
      "outputs": [
        {
          "output_type": "execute_result",
          "data": {
            "text/plain": [
              "0.16831683168316833"
            ]
          },
          "metadata": {},
          "execution_count": 75
        }
      ]
    },
    {
      "cell_type": "code",
      "metadata": {
        "colab": {
          "base_uri": "https://localhost:8080/",
          "height": 296
        },
        "id": "3Y_oGpfuSZ73",
        "outputId": "890b40e8-29f0-4033-a0c5-efa344890e1c"
      },
      "source": [
        "max_depth = list(range(1,50))\n",
        "max_depth\n",
        "accuracy = []\n",
        "max_score = 0\n",
        "best_depth = 0\n",
        "for depth in max_depth:\n",
        "  clf_dt_pruned = tree.DecisionTreeClassifier(max_depth = depth)\n",
        "  clf_dt_pruned.fit(uni.toarray(), df_train['Label'])\n",
        "  predictions_dt_p_uni = clf_dt_pruned.predict(email_test)\n",
        "  score = accuracy_score(df_test['Label'], predictions_dt_p_uni)\n",
        "  accuracy.append(score)\n",
        "\n",
        "  if score>max_score:\n",
        "    max_score = score\n",
        "    best_depth = depth\n",
        "    best_predictions = predictions_dt_p_uni\n",
        "\n",
        "dt_p_uni_cf_matrix = confusion_matrix(df_test['Label'], best_predictions)\n",
        "\n",
        "plt.plot(max_depth, accuracy)\n",
        "plt.plot(best_depth, max_score, marker='o') \n",
        "plt.ylabel('Accuracy') \n",
        "plt.xlabel('Max Depth');\n",
        "print(best_depth, max_score)"
      ],
      "execution_count": null,
      "outputs": [
        {
          "output_type": "stream",
          "name": "stdout",
          "text": [
            "27 0.7376237623762376\n"
          ]
        },
        {
          "output_type": "display_data",
          "data": {
            "image/png": "[encoded data removed]",
            "text/plain": [
              "<Figure size 432x288 with 1 Axes>"
            ]
          },
          "metadata": {
            "needs_background": "light"
          }
        }
      ]
    },
    {
      "cell_type": "code",
      "metadata": {
        "id": "zYnhrUFWTKbD",
        "colab": {
          "base_uri": "https://localhost:8080/",
          "height": 606
        },
        "outputId": "1f5e4848-4f3e-4092-a6b6-6e791cdf6ecf"
      },
      "source": [
        "fig, axis = plt.subplots(figsize=(15,10))\n",
        "ax = sns.heatmap(dt_p_uni_cf_matrix, annot=True, cmap='winter_r')\n",
        "ax.set_xlabel('Predicted Categories');\n",
        "ax.set_ylabel('Actual Categories');\n",
        "ax.xaxis.set_ticklabels(labels);\n",
        "ax.yaxis.set_ticklabels(labels);\n",
        "plt.savefig('uni_dt_pruned_cf.jpg')"
      ],
      "execution_count": null,
      "outputs": [
        {
          "output_type": "display_data",
          "data": {
            "image/png": "[encoded data removed]",
            "text/plain": [
              "<Figure size 1080x720 with 2 Axes>"
            ]
          },
          "metadata": {
            "needs_background": "light"
          }
        }
      ]
    },
    {
      "cell_type": "code",
      "metadata": {
        "id": "PlK5N5lhMlTj"
      },
      "source": [
        "#Random Forest\n",
        "from sklearn.ensemble import RandomForestClassifier\n",
        "clf_rf = RandomForestClassifier()"
      ],
      "execution_count": null,
      "outputs": []
    },
    {
      "cell_type": "code",
      "metadata": {
        "colab": {
          "base_uri": "https://localhost:8080/"
        },
        "id": "ZFO_0-8pNIcZ",
        "outputId": "a31ad01c-962f-4c8e-92af-62fa41eea645"
      },
      "source": [
        "clf_rf.fit(uni.toarray(), df_train['Label'])\n",
        "predictions_rf_uni = clf_rf.predict(email_test)\n",
        "accuracy_score(df_test['Label'], predictions_rf_uni)"
      ],
      "execution_count": null,
      "outputs": [
        {
          "output_type": "execute_result",
          "data": {
            "text/plain": [
              "0.801980198019802"
            ]
          },
          "metadata": {},
          "execution_count": 139
        }
      ]
    },
    {
      "cell_type": "code",
      "metadata": {
        "id": "beveYVQWNS0d"
      },
      "source": [
        "rf_uni_cf_matrix = confusion_matrix(df_test['Label'], predictions_rf_uni)"
      ],
      "execution_count": null,
      "outputs": []
    },
    {
      "cell_type": "code",
      "metadata": {
        "colab": {
          "base_uri": "https://localhost:8080/",
          "height": 606
        },
        "id": "5_TB0BrSTj0w",
        "outputId": "ccdb3e86-1e65-4b89-ce21-bd9d482c3c2f"
      },
      "source": [
        "fig, axis = plt.subplots(figsize=(15,10))\n",
        "ax = sns.heatmap(rf_uni_cf_matrix, annot=True, cmap='winter_r')\n",
        "ax.set_xlabel('Predicted Categories');\n",
        "ax.set_ylabel('Actual Categories');\n",
        "ax.xaxis.set_ticklabels(labels);\n",
        "ax.yaxis.set_ticklabels(labels);\n",
        "plt.savefig('uni_rf_cf.jpg')"
      ],
      "execution_count": null,
      "outputs": [
        {
          "output_type": "display_data",
          "data": {
            "image/png": "[encoded data removed]",
            "text/plain": [
              "<Figure size 1080x720 with 2 Axes>"
            ]
          },
          "metadata": {
            "needs_background": "light"
          }
        }
      ]
    },
    {
      "cell_type": "code",
      "metadata": {
        "colab": {
          "base_uri": "https://localhost:8080/"
        },
        "id": "aWRBHIQwqMX5",
        "outputId": "520bf284-2281-47ea-8233-7a4a355daee7"
      },
      "source": [
        "clf_rf.fit(bi.toarray(), df_train['Label'])\n",
        "predictions_rf_bi = clf_rf.predict(vectorizer_bi.fit_transform(df_test['body'].astype('U')).toarray())\n",
        "accuracy_score(df_test['Label'], predictions_rf_bi)clf_dt.fit(bi.toarray(), df_train['Label'])"
      ],
      "execution_count": null,
      "outputs": [
        {
          "output_type": "execute_result",
          "data": {
            "text/plain": [
              "0.16831683168316833"
            ]
          },
          "metadata": {},
          "execution_count": 78
        }
      ]
    },
    {
      "cell_type": "code",
      "metadata": {
        "colab": {
          "base_uri": "https://localhost:8080/"
        },
        "id": "oCm0rhZ0q1-E",
        "outputId": "b79cc864-ead7-4d72-e39c-8b97646b115b"
      },
      "source": [
        "clf_rf.fit(tri.toarray(), df_train['Label'])\n",
        "predictions_rf_tri = clf_rf.predict(vectorizer_tri.fit_transform(df_test['body'].astype('U')).toarray())\n",
        "accuracy_score(df_test['Label'], predictions_rf_tri)"
      ],
      "execution_count": null,
      "outputs": [
        {
          "output_type": "execute_result",
          "data": {
            "text/plain": [
              "0.16831683168316833"
            ]
          },
          "metadata": {},
          "execution_count": 80
        }
      ]
    },
    {
      "cell_type": "code",
      "metadata": {
        "colab": {
          "base_uri": "https://localhost:8080/",
          "height": 296
        },
        "id": "5ceutp591sWv",
        "outputId": "7efc44e5-37ac-48da-f578-e41feafcf382"
      },
      "source": [
        "max_depth = list(range(1,50))\n",
        "max_depth\n",
        "accuracy = []\n",
        "max_score = 0\n",
        "best_depth = 0\n",
        "for depth in max_depth:\n",
        "  clf_rf_tuned = RandomForestClassifier(max_depth = depth)\n",
        "  clf_rf_tuned.fit(uni.toarray(), df_train['Label'])\n",
        "  predictions_rf_t_uni = clf_rf_tuned.predict(email_test)\n",
        "  score = accuracy_score(df_test['Label'], predictions_rf_t_uni)\n",
        "  accuracy.append(score)\n",
        "\n",
        "  if score>max_score:\n",
        "    max_score = score\n",
        "    best_depth = depth\n",
        "    best_predictions = predictions_rf_t_uni\n",
        "\n",
        "rf_t_uni_cf_matrix = confusion_matrix(df_test['Label'], best_predictions)\n",
        "\n",
        "plt.plot(max_depth, accuracy)\n",
        "plt.plot(best_depth, max_score, marker='o') \n",
        "plt.ylabel('Accuracy') \n",
        "plt.xlabel('Max Depth');\n",
        "print(best_depth, max_score)"
      ],
      "execution_count": null,
      "outputs": [
        {
          "output_type": "stream",
          "name": "stdout",
          "text": [
            "24 0.8465346534653465\n"
          ]
        },
        {
          "output_type": "display_data",
          "data": {
            "image/png": "[encoded data removed]",
            "text/plain": [
              "<Figure size 432x288 with 1 Axes>"
            ]
          },
          "metadata": {
            "needs_background": "light"
          }
        }
      ]
    },
    {
      "cell_type": "code",
      "metadata": {
        "colab": {
          "base_uri": "https://localhost:8080/",
          "height": 606
        },
        "id": "45ATKOmnaHPR",
        "outputId": "61bdb0da-e55b-46c2-8a0b-10f93abb99e5"
      },
      "source": [
        "fig, axis = plt.subplots(figsize=(15,10))\n",
        "ax = sns.heatmap(rf_t_uni_cf_matrix, annot=True, cmap='winter_r')\n",
        "ax.set_xlabel('Predicted Categories');\n",
        "ax.set_ylabel('Actual Categories');\n",
        "ax.xaxis.set_ticklabels(labels);\n",
        "ax.yaxis.set_ticklabels(labels);\n",
        "plt.savefig('uni_rf_t_cf.jpg')"
      ],
      "execution_count": null,
      "outputs": [
        {
          "output_type": "display_data",
          "data": {
            "image/png": "[encoded data removed]",
            "text/plain": [
              "<Figure size 1080x720 with 2 Axes>"
            ]
          },
          "metadata": {
            "needs_background": "light"
          }
        }
      ]
    },
    {
      "cell_type": "code",
      "metadata": {
        "id": "2UPRJB7rbxRB"
      },
      "source": [
        "#Logistic Regression\n",
        "from sklearn.linear_model import LogisticRegression\n",
        "clf_lr = LogisticRegression()"
      ],
      "execution_count": null,
      "outputs": []
    },
    {
      "cell_type": "code",
      "metadata": {
        "colab": {
          "base_uri": "https://localhost:8080/"
        },
        "id": "7bKNANAGcSIQ",
        "outputId": "1d9fe9fd-1a6c-4ff5-d990-a67b28b045bb"
      },
      "source": [
        "clf_lr.fit(uni.toarray(), df_train['Label'])\n",
        "predictions_lr_uni = clf_lr.predict(email_test)\n",
        "accuracy_score(df_test['Label'], predictions_lr_uni)"
      ],
      "execution_count": null,
      "outputs": [
        {
          "output_type": "execute_result",
          "data": {
            "text/plain": [
              "0.8316831683168316"
            ]
          },
          "metadata": {},
          "execution_count": 150
        }
      ]
    },
    {
      "cell_type": "code",
      "metadata": {
        "colab": {
          "base_uri": "https://localhost:8080/"
        },
        "id": "8vcLcfADwykQ",
        "outputId": "59d89454-225f-4d94-8805-ad4cd1c46de2"
      },
      "source": [
        "clf_lr.fit(bi.toarray(), df_train['Label'])\n",
        "predictions_lr_bi = clf_lr.predict(vectorizer_bi.fit_transform(df_test['body'].astype('U')).toarray())\n",
        "accuracy_score(df_test['Label'], predictions_lr_bi)"
      ],
      "execution_count": null,
      "outputs": [
        {
          "output_type": "execute_result",
          "data": {
            "text/plain": [
              "0.16831683168316833"
            ]
          },
          "metadata": {},
          "execution_count": 88
        }
      ]
    },
    {
      "cell_type": "code",
      "metadata": {
        "colab": {
          "base_uri": "https://localhost:8080/"
        },
        "id": "mm53NBdYxH5g",
        "outputId": "dd1f6eb5-2471-4dac-b268-2929c6bb3056"
      },
      "source": [
        "clf_rf.fit(tri.toarray(), df_train['Label'])\n",
        "predictions_rf_tri = clf_rf.predict(vectorizer_tri.fit_transform(df_test['body'].astype('U')).toarray())\n",
        "accuracy_score(df_test['Label'], predictions_rf_tri)"
      ],
      "execution_count": null,
      "outputs": [
        {
          "output_type": "execute_result",
          "data": {
            "text/plain": [
              "0.16831683168316833"
            ]
          },
          "metadata": {},
          "execution_count": 89
        }
      ]
    },
    {
      "cell_type": "code",
      "metadata": {
        "colab": {
          "base_uri": "https://localhost:8080/"
        },
        "id": "rTdmOju8eYha",
        "outputId": "65301dd8-41bc-4777-85cc-3a31234e05dd"
      },
      "source": [
        "len(df_test[df_test['Label'] == 'Academic'])"
      ],
      "execution_count": null,
      "outputs": [
        {
          "output_type": "execute_result",
          "data": {
            "text/plain": [
              "31"
            ]
          },
          "metadata": {},
          "execution_count": 151
        }
      ]
    },
    {
      "cell_type": "code",
      "metadata": {
        "colab": {
          "base_uri": "https://localhost:8080/",
          "height": 606
        },
        "id": "PuwUuWkXetqN",
        "outputId": "ced53937-8a6a-40a0-d97c-547f4666854d"
      },
      "source": [
        "lr_uni_matrix = confusion_matrix(df_test['Label'], predictions_lr_uni)\n",
        "fig, axis = plt.subplots(figsize=(15,10))\n",
        "ax = sns.heatmap(lr_uni_matrix, annot=True, cmap='winter_r')\n",
        "ax.set_xlabel('Predicted Categories');\n",
        "ax.set_ylabel('Actual Categories');\n",
        "ax.xaxis.set_ticklabels(labels);\n",
        "ax.yaxis.set_ticklabels(labels);\n",
        "plt.savefig('uni_lr_cf.jpg')"
      ],
      "execution_count": null,
      "outputs": [
        {
          "output_type": "display_data",
          "data": {
            "image/png": "[encoded data removed]",
            "text/plain": [
              "<Figure size 1080x720 with 2 Axes>"
            ]
          },
          "metadata": {
            "needs_background": "light"
          }
        }
      ]
    },
    {
      "cell_type": "code",
      "metadata": {
        "id": "zpFjOLps5ZaM"
      },
      "source": [
        "#GridSearchCV for RandomForestClassifier\n",
        "from sklearn.model_selection import GridSearchCV\n",
        "\n",
        "param_grid = { \n",
        "    'n_estimators': [50, 100, 250, 500, 750, 1000],\n",
        "    'max_features': ['auto', 'sqrt', 'log2'],\n",
        "    'max_depth' : list(range(1, 50)),\n",
        "    'min_samples_leaf' : list(range(1,10)),\n",
        "    'class_weight' : ['balanced', 'balanced_subsample']\n",
        "}\n",
        "\n",
        "rf_grid = RandomForestClassifier()\n",
        "\n",
        "rf_grid_cv = GridSearchCV(estimator = rf_grid, param_grid = param_grid)"
      ],
      "execution_count": null,
      "outputs": []
    },
    {
      "cell_type": "code",
      "metadata": {
        "id": "C7K16Csu8adR"
      },
      "source": [
        "rf_grid_cv.fit(uni.toarray(), df_train['Label'])"
      ],
      "execution_count": null,
      "outputs": []
    },
    {
      "cell_type": "code",
      "metadata": {
        "id": "YJcRrqSSiDGt"
      },
      "source": [
        "#AdaBoost Classifier\n",
        "from sklearn.ensemble import AdaBoostClassifier"
      ],
      "execution_count": null,
      "outputs": []
    },
    {
      "cell_type": "code",
      "metadata": {
        "id": "KdeX09gClJyw"
      },
      "source": [
        "clf_ada = AdaBoostClassifier(n_estimators=)"
      ],
      "execution_count": null,
      "outputs": []
    },
    {
      "cell_type": "code",
      "metadata": {
        "colab": {
          "base_uri": "https://localhost:8080/"
        },
        "id": "sfxX_hSQlTBS",
        "outputId": "091556f6-2f30-40df-923b-72a1d526373a"
      },
      "source": [
        "clf_ada.fit(uni.toarray(), df_train['Label'])\n",
        "predictions_ada_uni = clf_ada.predict(email_test)\n",
        "accuracy_score(df_test['Label'], predictions_ada_uni)"
      ],
      "execution_count": null,
      "outputs": [
        {
          "output_type": "execute_result",
          "data": {
            "text/plain": [
              "0.6435643564356436"
            ]
          },
          "metadata": {},
          "execution_count": 155
        }
      ]
    },
    {
      "cell_type": "code",
      "metadata": {
        "colab": {
          "base_uri": "https://localhost:8080/",
          "height": 606
        },
        "id": "iqO1MmAtlkXM",
        "outputId": "1afb0fdf-5329-4792-aa75-e48b688db5e3"
      },
      "source": [
        "ada_uni_matrix = confusion_matrix(df_test['Label'], predictions_ada_uni)\n",
        "fig, axis = plt.subplots(figsize=(15,10))\n",
        "ax = sns.heatmap(ada_uni_matrix, annot=True, cmap='winter_r')\n",
        "ax.set_xlabel('Predicted Categories');\n",
        "ax.set_ylabel('Actual Categories');\n",
        "ax.xaxis.set_ticklabels(labels);\n",
        "ax.yaxis.set_ticklabels(labels);"
      ],
      "execution_count": null,
      "outputs": [
        {
          "output_type": "display_data",
          "data": {
            "image/png": "[encoded data removed]",
            "text/plain": [
              "<Figure size 1080x720 with 2 Axes>"
            ]
          },
          "metadata": {
            "needs_background": "light"
          }
        }
      ]
    },
    {
      "cell_type": "code",
      "metadata": {
        "id": "tegOdLfaR0Ev"
      },
      "source": [
        ""
      ],
      "execution_count": null,
      "outputs": []
    }
  ]
}